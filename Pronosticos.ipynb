{
 "cells": [
  {
   "cell_type": "code",
   "execution_count": 1,
   "id": "582c2a77-edc8-4b85-adf0-4ed228db022a",
   "metadata": {},
   "outputs": [],
   "source": [
    "#!pip install streamlit plotly"
   ]
  },
  {
   "cell_type": "code",
   "execution_count": 2,
   "id": "07d93c09-a95d-4282-b6b9-039929cd994a",
   "metadata": {},
   "outputs": [],
   "source": [
    "#!pip install -U plotly"
   ]
  },
  {
   "cell_type": "code",
   "execution_count": 3,
   "id": "c77b162d-4703-4e32-a8b3-c29495efb49d",
   "metadata": {},
   "outputs": [],
   "source": [
    "import datetime\n",
    "import time # para medir tiempo\n",
    "import math"
   ]
  },
  {
   "cell_type": "code",
   "execution_count": 4,
   "id": "4bd00879-2135-4005-9d1b-3e3b36812902",
   "metadata": {},
   "outputs": [],
   "source": [
    "# Tiempo inicial\n",
    "start = time.time()  "
   ]
  },
  {
   "cell_type": "code",
   "execution_count": 5,
   "id": "5dd95846-4c59-4697-8685-53254c327747",
   "metadata": {},
   "outputs": [],
   "source": [
    "import requests\n",
    "import pandas as pd\n",
    "from datetime import datetime, timedelta, time as dtime, timezone\n",
    "import time  # para medir tiempo\n",
    "import math\n",
    "import warnings\n",
    "from urllib3.exceptions import InsecureRequestWarning\n",
    "\n",
    "warnings.filterwarnings(\"ignore\", category=InsecureRequestWarning)\n",
    "\n",
    "# Estaciones de precipitación (sp)\n",
    "sp_codes = [\"101\", \"102\", \"103\", \"104\", \"106\", \"108\", \"109\", \"131\", \"132\", \"133\", \"134\", \"135\", \n",
    "            \"136\", \"137\", \"138\", \"139\", \"140\", \"141\", \"142\", \"143\", \"144\", \"145\", \"146\", \"147\", \n",
    "            \"149\", \"150\", \"151\", \"152\", \"154\", \"155\", \"156\", \"157\",\"158\",\"159\", \"160\", \"161\", \"162\", \"163\"]\n",
    "\n",
    "# Estaciones de precipitación (sp)\n",
    "#sp_codes = [\"149\", \"150\", \"151\", \"152\", \"154\", \"155\", \"156\", \"157\"]\n",
    "\n",
    "def obtener_datos_estacion(code, calidad=1):\n",
    "    page = 1\n",
    "    datos = []\n",
    "    while True:\n",
    "        url = f\"https://sigran.antioquia.gov.co/api/v1/estaciones/sp_{code}/precipitacion?calidad={calidad}&page={page}\"\n",
    "        response = requests.get(url, verify=False)\n",
    "        if response.status_code != 200:\n",
    "            break\n",
    "        data = response.json()\n",
    "        values = data.get(\"values\", [])\n",
    "        if not values:\n",
    "            break\n",
    "        datos.extend(values)\n",
    "        page += 1\n",
    "        # Paramos si ya tenemos más de 72 horas de datos\n",
    "        fechas = [pd.to_datetime(d['fecha']) for d in datos]\n",
    "        if fechas and (max(fechas) - min(fechas)).total_seconds() > 72 * 3600:\n",
    "            break\n",
    "    return datos\n",
    "\n"
   ]
  },
  {
   "cell_type": "code",
   "execution_count": 6,
   "id": "3b96f65c-4a1d-4bb9-9bf3-6a7166d6395c",
   "metadata": {},
   "outputs": [],
   "source": [
    "def obtener_metadata_sp(code):\n",
    "    url = f\"https://sigran.antioquia.gov.co/api/v1/estaciones/sp_{code}/\"\n",
    "    resp = requests.get(url, verify=False)\n",
    "    if resp.status_code == 200:\n",
    "        d = resp.json()\n",
    "        return {\n",
    "            \"estacion\": code,\n",
    "            \"codigo\": d.get(\"codigo\"),\n",
    "            \"descripcion\": d.get(\"descripcion\"),\n",
    "            \"nombre_web\": d.get(\"nombre_web\"),\n",
    "            \"latitud\": float(d.get(\"latitud\", 0)),\n",
    "            \"longitud\": float(d.get(\"longitud\", 0)),\n",
    "            \"municipio\": d.get(\"municipio\"),\n",
    "            \"region\": d.get(\"region\")\n",
    "        }\n",
    "    else:\n",
    "        return None"
   ]
  },
  {
   "cell_type": "code",
   "execution_count": 7,
   "id": "f4a8600c-667d-497a-8033-024acd158501",
   "metadata": {},
   "outputs": [],
   "source": [
    "import pytz\n",
    "\n",
    "def procesar_datos(datos, ahora=None):\n",
    "    if not datos:\n",
    "        return None\n",
    "\n",
    "    df = pd.DataFrame(datos)\n",
    "    df[\"fecha\"] = pd.to_datetime(df[\"fecha\"], utc=True)\n",
    "    df[\"muestra\"] = pd.to_numeric(df[\"muestra\"], errors='coerce')\n",
    "\n",
    "    ahora = ahora or datetime.utcnow().replace(tzinfo=pytz.UTC)\n",
    "\n",
    "    acumulados = {\n",
    "        \"acum_6h\": df[(df[\"fecha\"] > ahora - timedelta(hours=6)) & (df[\"fecha\"] <= ahora)][\"muestra\"].sum(),\n",
    "        \"acum_24h\": df[(df[\"fecha\"] > ahora - timedelta(hours=24)) & (df[\"fecha\"] <= ahora)][\"muestra\"].sum(),\n",
    "        \"acum_72h\": df[(df[\"fecha\"] > ahora - timedelta(hours=72)) & (df[\"fecha\"] <= ahora)][\"muestra\"].sum()\n",
    "    }\n",
    "\n",
    "    # Serie de 120 horas\n",
    "    serie_120h = []\n",
    "    for h in range(1, 121):\n",
    "        t_ini = ahora - timedelta(hours=h)\n",
    "        t_fin = ahora - timedelta(hours=h-1)\n",
    "        val = df[(df[\"fecha\"] > t_ini) & (df[\"fecha\"] <= t_fin)][\"muestra\"].sum()\n",
    "        serie_120h.append({\"hora\": t_ini, \"acumulado\": val})\n",
    "\n",
    "    # Día meteorológico: 7am local = 12:00 UTC del día anterior\n",
    "    ult_utc = ahora.replace(minute=0, second=0, microsecond=0)\n",
    "    if ult_utc.hour < 12:\n",
    "        dia_base = ult_utc - timedelta(days=1)\n",
    "    else:\n",
    "        dia_base = ult_utc\n",
    "    inicio_dia = dia_base.replace(hour=12)\n",
    "    \n",
    "    #def acum_dias(n):\n",
    "        #return df[(df[\"fecha\"] > inicio_dia - timedelta(days=n)) & (df[\"fecha\"] <= inicio_dia)][\"muestra\"].sum()\n",
    "    \n",
    "    #meteo = {\n",
    "        #\"ultimo_dia_meteorologico\": acum_dias(1),\n",
    "        #\"ultimos_7_dias_meteorologicos\": acum_dias(7),\n",
    "        #\"ultimos_30_dias_meteorologicos\": acum_dias(30)\n",
    "    #}\n",
    "\n",
    "    def acum_dias_meteorologicos(n, df):\n",
    "        # Momento actual en UTC\n",
    "        ahora = datetime.now(timezone.utc)\n",
    "\n",
    "        # 7:00 AM UTC del día actual (inicio del día meteorológico actual)\n",
    "        inicio_meteo = datetime.combine(ahora.date(), dtime(7, 0, tzinfo=timezone.utc))\n",
    "\n",
    "\n",
    "        # Rango del día meteorológico: de (hace n días a las 7 AM) hasta (hoy a las 7 AM)\n",
    "        fecha_inicio = inicio_meteo - timedelta(days=n)\n",
    "        fecha_fin = inicio_meteo\n",
    "\n",
    "        # Filtrar y sumar la columna 'muestra' en ese rango\n",
    "        return df[(df[\"fecha\"] > fecha_inicio) & (df[\"fecha\"] <= fecha_fin)][\"muestra\"].sum()\n",
    "\n",
    "    # Diccionario con los acumulados meteorológicos\n",
    "    meteo = {\n",
    "        \"ultimo_dia_meteorologico\": acum_dias_meteorologicos(1, df),\n",
    "        \"ultimos_7_dias_meteorologicos\": acum_dias_meteorologicos(7, df),\n",
    "        \"ultimos_30_dias_meteorologicos\": acum_dias_meteorologicos(30, df)\n",
    "    }\n",
    "\n",
    "    \n",
    "    fecha_max = df[\"fecha\"].max()\n",
    "    dias_sin_datos = (ahora - fecha_max).days\n",
    "    datos_recientes = int((ahora - fecha_max) <= timedelta(days=1))\n",
    "    \n",
    "\n",
    "    return {\n",
    "        **acumulados,\n",
    "        **meteo,\n",
    "        \"datos_recientes\": datos_recientes,\n",
    "        \"dias_sin_datos\": dias_sin_datos,\n",
    "        \"fecha_ultimo_dato\": fecha_max, \n",
    "        \"serie_120h\": serie_120h\n",
    "    }\n"
   ]
  },
  {
   "cell_type": "code",
   "execution_count": 8,
   "id": "9312a7bf-92f7-4fd0-8de6-ff3ca49a40de",
   "metadata": {},
   "outputs": [
    {
     "name": "stderr",
     "output_type": "stream",
     "text": [
      "/var/folders/8c/s98grqnx6v56_mmc7xz85wq40000gn/T/ipykernel_55149/1942307016.py:11: DeprecationWarning: datetime.datetime.utcnow() is deprecated and scheduled for removal in a future version. Use timezone-aware objects to represent datetimes in UTC: datetime.datetime.now(datetime.UTC).\n",
      "  ahora = ahora or datetime.utcnow().replace(tzinfo=pytz.UTC)\n",
      "/var/folders/8c/s98grqnx6v56_mmc7xz85wq40000gn/T/ipykernel_55149/1942307016.py:11: DeprecationWarning: datetime.datetime.utcnow() is deprecated and scheduled for removal in a future version. Use timezone-aware objects to represent datetimes in UTC: datetime.datetime.now(datetime.UTC).\n",
      "  ahora = ahora or datetime.utcnow().replace(tzinfo=pytz.UTC)\n",
      "/var/folders/8c/s98grqnx6v56_mmc7xz85wq40000gn/T/ipykernel_55149/1942307016.py:11: DeprecationWarning: datetime.datetime.utcnow() is deprecated and scheduled for removal in a future version. Use timezone-aware objects to represent datetimes in UTC: datetime.datetime.now(datetime.UTC).\n",
      "  ahora = ahora or datetime.utcnow().replace(tzinfo=pytz.UTC)\n",
      "/var/folders/8c/s98grqnx6v56_mmc7xz85wq40000gn/T/ipykernel_55149/1942307016.py:11: DeprecationWarning: datetime.datetime.utcnow() is deprecated and scheduled for removal in a future version. Use timezone-aware objects to represent datetimes in UTC: datetime.datetime.now(datetime.UTC).\n",
      "  ahora = ahora or datetime.utcnow().replace(tzinfo=pytz.UTC)\n",
      "/var/folders/8c/s98grqnx6v56_mmc7xz85wq40000gn/T/ipykernel_55149/1942307016.py:11: DeprecationWarning: datetime.datetime.utcnow() is deprecated and scheduled for removal in a future version. Use timezone-aware objects to represent datetimes in UTC: datetime.datetime.now(datetime.UTC).\n",
      "  ahora = ahora or datetime.utcnow().replace(tzinfo=pytz.UTC)\n",
      "/var/folders/8c/s98grqnx6v56_mmc7xz85wq40000gn/T/ipykernel_55149/1942307016.py:11: DeprecationWarning: datetime.datetime.utcnow() is deprecated and scheduled for removal in a future version. Use timezone-aware objects to represent datetimes in UTC: datetime.datetime.now(datetime.UTC).\n",
      "  ahora = ahora or datetime.utcnow().replace(tzinfo=pytz.UTC)\n",
      "/var/folders/8c/s98grqnx6v56_mmc7xz85wq40000gn/T/ipykernel_55149/1942307016.py:11: DeprecationWarning: datetime.datetime.utcnow() is deprecated and scheduled for removal in a future version. Use timezone-aware objects to represent datetimes in UTC: datetime.datetime.now(datetime.UTC).\n",
      "  ahora = ahora or datetime.utcnow().replace(tzinfo=pytz.UTC)\n",
      "/var/folders/8c/s98grqnx6v56_mmc7xz85wq40000gn/T/ipykernel_55149/1942307016.py:11: DeprecationWarning: datetime.datetime.utcnow() is deprecated and scheduled for removal in a future version. Use timezone-aware objects to represent datetimes in UTC: datetime.datetime.now(datetime.UTC).\n",
      "  ahora = ahora or datetime.utcnow().replace(tzinfo=pytz.UTC)\n",
      "/var/folders/8c/s98grqnx6v56_mmc7xz85wq40000gn/T/ipykernel_55149/1942307016.py:11: DeprecationWarning: datetime.datetime.utcnow() is deprecated and scheduled for removal in a future version. Use timezone-aware objects to represent datetimes in UTC: datetime.datetime.now(datetime.UTC).\n",
      "  ahora = ahora or datetime.utcnow().replace(tzinfo=pytz.UTC)\n",
      "/var/folders/8c/s98grqnx6v56_mmc7xz85wq40000gn/T/ipykernel_55149/1942307016.py:11: DeprecationWarning: datetime.datetime.utcnow() is deprecated and scheduled for removal in a future version. Use timezone-aware objects to represent datetimes in UTC: datetime.datetime.now(datetime.UTC).\n",
      "  ahora = ahora or datetime.utcnow().replace(tzinfo=pytz.UTC)\n",
      "/var/folders/8c/s98grqnx6v56_mmc7xz85wq40000gn/T/ipykernel_55149/1942307016.py:11: DeprecationWarning: datetime.datetime.utcnow() is deprecated and scheduled for removal in a future version. Use timezone-aware objects to represent datetimes in UTC: datetime.datetime.now(datetime.UTC).\n",
      "  ahora = ahora or datetime.utcnow().replace(tzinfo=pytz.UTC)\n",
      "/var/folders/8c/s98grqnx6v56_mmc7xz85wq40000gn/T/ipykernel_55149/1942307016.py:11: DeprecationWarning: datetime.datetime.utcnow() is deprecated and scheduled for removal in a future version. Use timezone-aware objects to represent datetimes in UTC: datetime.datetime.now(datetime.UTC).\n",
      "  ahora = ahora or datetime.utcnow().replace(tzinfo=pytz.UTC)\n",
      "/var/folders/8c/s98grqnx6v56_mmc7xz85wq40000gn/T/ipykernel_55149/1942307016.py:11: DeprecationWarning: datetime.datetime.utcnow() is deprecated and scheduled for removal in a future version. Use timezone-aware objects to represent datetimes in UTC: datetime.datetime.now(datetime.UTC).\n",
      "  ahora = ahora or datetime.utcnow().replace(tzinfo=pytz.UTC)\n",
      "/var/folders/8c/s98grqnx6v56_mmc7xz85wq40000gn/T/ipykernel_55149/1942307016.py:11: DeprecationWarning: datetime.datetime.utcnow() is deprecated and scheduled for removal in a future version. Use timezone-aware objects to represent datetimes in UTC: datetime.datetime.now(datetime.UTC).\n",
      "  ahora = ahora or datetime.utcnow().replace(tzinfo=pytz.UTC)\n",
      "/var/folders/8c/s98grqnx6v56_mmc7xz85wq40000gn/T/ipykernel_55149/1942307016.py:11: DeprecationWarning: datetime.datetime.utcnow() is deprecated and scheduled for removal in a future version. Use timezone-aware objects to represent datetimes in UTC: datetime.datetime.now(datetime.UTC).\n",
      "  ahora = ahora or datetime.utcnow().replace(tzinfo=pytz.UTC)\n",
      "/var/folders/8c/s98grqnx6v56_mmc7xz85wq40000gn/T/ipykernel_55149/1942307016.py:11: DeprecationWarning: datetime.datetime.utcnow() is deprecated and scheduled for removal in a future version. Use timezone-aware objects to represent datetimes in UTC: datetime.datetime.now(datetime.UTC).\n",
      "  ahora = ahora or datetime.utcnow().replace(tzinfo=pytz.UTC)\n",
      "/var/folders/8c/s98grqnx6v56_mmc7xz85wq40000gn/T/ipykernel_55149/1942307016.py:11: DeprecationWarning: datetime.datetime.utcnow() is deprecated and scheduled for removal in a future version. Use timezone-aware objects to represent datetimes in UTC: datetime.datetime.now(datetime.UTC).\n",
      "  ahora = ahora or datetime.utcnow().replace(tzinfo=pytz.UTC)\n",
      "/var/folders/8c/s98grqnx6v56_mmc7xz85wq40000gn/T/ipykernel_55149/1942307016.py:11: DeprecationWarning: datetime.datetime.utcnow() is deprecated and scheduled for removal in a future version. Use timezone-aware objects to represent datetimes in UTC: datetime.datetime.now(datetime.UTC).\n",
      "  ahora = ahora or datetime.utcnow().replace(tzinfo=pytz.UTC)\n",
      "/var/folders/8c/s98grqnx6v56_mmc7xz85wq40000gn/T/ipykernel_55149/1942307016.py:11: DeprecationWarning: datetime.datetime.utcnow() is deprecated and scheduled for removal in a future version. Use timezone-aware objects to represent datetimes in UTC: datetime.datetime.now(datetime.UTC).\n",
      "  ahora = ahora or datetime.utcnow().replace(tzinfo=pytz.UTC)\n",
      "/var/folders/8c/s98grqnx6v56_mmc7xz85wq40000gn/T/ipykernel_55149/1942307016.py:11: DeprecationWarning: datetime.datetime.utcnow() is deprecated and scheduled for removal in a future version. Use timezone-aware objects to represent datetimes in UTC: datetime.datetime.now(datetime.UTC).\n",
      "  ahora = ahora or datetime.utcnow().replace(tzinfo=pytz.UTC)\n",
      "/var/folders/8c/s98grqnx6v56_mmc7xz85wq40000gn/T/ipykernel_55149/1942307016.py:11: DeprecationWarning: datetime.datetime.utcnow() is deprecated and scheduled for removal in a future version. Use timezone-aware objects to represent datetimes in UTC: datetime.datetime.now(datetime.UTC).\n",
      "  ahora = ahora or datetime.utcnow().replace(tzinfo=pytz.UTC)\n",
      "/var/folders/8c/s98grqnx6v56_mmc7xz85wq40000gn/T/ipykernel_55149/1942307016.py:11: DeprecationWarning: datetime.datetime.utcnow() is deprecated and scheduled for removal in a future version. Use timezone-aware objects to represent datetimes in UTC: datetime.datetime.now(datetime.UTC).\n",
      "  ahora = ahora or datetime.utcnow().replace(tzinfo=pytz.UTC)\n",
      "/var/folders/8c/s98grqnx6v56_mmc7xz85wq40000gn/T/ipykernel_55149/1942307016.py:11: DeprecationWarning: datetime.datetime.utcnow() is deprecated and scheduled for removal in a future version. Use timezone-aware objects to represent datetimes in UTC: datetime.datetime.now(datetime.UTC).\n",
      "  ahora = ahora or datetime.utcnow().replace(tzinfo=pytz.UTC)\n",
      "/var/folders/8c/s98grqnx6v56_mmc7xz85wq40000gn/T/ipykernel_55149/1942307016.py:11: DeprecationWarning: datetime.datetime.utcnow() is deprecated and scheduled for removal in a future version. Use timezone-aware objects to represent datetimes in UTC: datetime.datetime.now(datetime.UTC).\n",
      "  ahora = ahora or datetime.utcnow().replace(tzinfo=pytz.UTC)\n",
      "/var/folders/8c/s98grqnx6v56_mmc7xz85wq40000gn/T/ipykernel_55149/1942307016.py:11: DeprecationWarning: datetime.datetime.utcnow() is deprecated and scheduled for removal in a future version. Use timezone-aware objects to represent datetimes in UTC: datetime.datetime.now(datetime.UTC).\n",
      "  ahora = ahora or datetime.utcnow().replace(tzinfo=pytz.UTC)\n",
      "/var/folders/8c/s98grqnx6v56_mmc7xz85wq40000gn/T/ipykernel_55149/1942307016.py:11: DeprecationWarning: datetime.datetime.utcnow() is deprecated and scheduled for removal in a future version. Use timezone-aware objects to represent datetimes in UTC: datetime.datetime.now(datetime.UTC).\n",
      "  ahora = ahora or datetime.utcnow().replace(tzinfo=pytz.UTC)\n",
      "/var/folders/8c/s98grqnx6v56_mmc7xz85wq40000gn/T/ipykernel_55149/1942307016.py:11: DeprecationWarning: datetime.datetime.utcnow() is deprecated and scheduled for removal in a future version. Use timezone-aware objects to represent datetimes in UTC: datetime.datetime.now(datetime.UTC).\n",
      "  ahora = ahora or datetime.utcnow().replace(tzinfo=pytz.UTC)\n",
      "/var/folders/8c/s98grqnx6v56_mmc7xz85wq40000gn/T/ipykernel_55149/1942307016.py:11: DeprecationWarning: datetime.datetime.utcnow() is deprecated and scheduled for removal in a future version. Use timezone-aware objects to represent datetimes in UTC: datetime.datetime.now(datetime.UTC).\n",
      "  ahora = ahora or datetime.utcnow().replace(tzinfo=pytz.UTC)\n",
      "/var/folders/8c/s98grqnx6v56_mmc7xz85wq40000gn/T/ipykernel_55149/1942307016.py:11: DeprecationWarning: datetime.datetime.utcnow() is deprecated and scheduled for removal in a future version. Use timezone-aware objects to represent datetimes in UTC: datetime.datetime.now(datetime.UTC).\n",
      "  ahora = ahora or datetime.utcnow().replace(tzinfo=pytz.UTC)\n",
      "/var/folders/8c/s98grqnx6v56_mmc7xz85wq40000gn/T/ipykernel_55149/1942307016.py:11: DeprecationWarning: datetime.datetime.utcnow() is deprecated and scheduled for removal in a future version. Use timezone-aware objects to represent datetimes in UTC: datetime.datetime.now(datetime.UTC).\n",
      "  ahora = ahora or datetime.utcnow().replace(tzinfo=pytz.UTC)\n",
      "/var/folders/8c/s98grqnx6v56_mmc7xz85wq40000gn/T/ipykernel_55149/1942307016.py:11: DeprecationWarning: datetime.datetime.utcnow() is deprecated and scheduled for removal in a future version. Use timezone-aware objects to represent datetimes in UTC: datetime.datetime.now(datetime.UTC).\n",
      "  ahora = ahora or datetime.utcnow().replace(tzinfo=pytz.UTC)\n",
      "/var/folders/8c/s98grqnx6v56_mmc7xz85wq40000gn/T/ipykernel_55149/1942307016.py:11: DeprecationWarning: datetime.datetime.utcnow() is deprecated and scheduled for removal in a future version. Use timezone-aware objects to represent datetimes in UTC: datetime.datetime.now(datetime.UTC).\n",
      "  ahora = ahora or datetime.utcnow().replace(tzinfo=pytz.UTC)\n",
      "/var/folders/8c/s98grqnx6v56_mmc7xz85wq40000gn/T/ipykernel_55149/1942307016.py:11: DeprecationWarning: datetime.datetime.utcnow() is deprecated and scheduled for removal in a future version. Use timezone-aware objects to represent datetimes in UTC: datetime.datetime.now(datetime.UTC).\n",
      "  ahora = ahora or datetime.utcnow().replace(tzinfo=pytz.UTC)\n",
      "/var/folders/8c/s98grqnx6v56_mmc7xz85wq40000gn/T/ipykernel_55149/1942307016.py:11: DeprecationWarning: datetime.datetime.utcnow() is deprecated and scheduled for removal in a future version. Use timezone-aware objects to represent datetimes in UTC: datetime.datetime.now(datetime.UTC).\n",
      "  ahora = ahora or datetime.utcnow().replace(tzinfo=pytz.UTC)\n",
      "/var/folders/8c/s98grqnx6v56_mmc7xz85wq40000gn/T/ipykernel_55149/1942307016.py:11: DeprecationWarning: datetime.datetime.utcnow() is deprecated and scheduled for removal in a future version. Use timezone-aware objects to represent datetimes in UTC: datetime.datetime.now(datetime.UTC).\n",
      "  ahora = ahora or datetime.utcnow().replace(tzinfo=pytz.UTC)\n",
      "/var/folders/8c/s98grqnx6v56_mmc7xz85wq40000gn/T/ipykernel_55149/1942307016.py:11: DeprecationWarning: datetime.datetime.utcnow() is deprecated and scheduled for removal in a future version. Use timezone-aware objects to represent datetimes in UTC: datetime.datetime.now(datetime.UTC).\n",
      "  ahora = ahora or datetime.utcnow().replace(tzinfo=pytz.UTC)\n",
      "/var/folders/8c/s98grqnx6v56_mmc7xz85wq40000gn/T/ipykernel_55149/1942307016.py:11: DeprecationWarning: datetime.datetime.utcnow() is deprecated and scheduled for removal in a future version. Use timezone-aware objects to represent datetimes in UTC: datetime.datetime.now(datetime.UTC).\n",
      "  ahora = ahora or datetime.utcnow().replace(tzinfo=pytz.UTC)\n",
      "/var/folders/8c/s98grqnx6v56_mmc7xz85wq40000gn/T/ipykernel_55149/1942307016.py:11: DeprecationWarning: datetime.datetime.utcnow() is deprecated and scheduled for removal in a future version. Use timezone-aware objects to represent datetimes in UTC: datetime.datetime.now(datetime.UTC).\n",
      "  ahora = ahora or datetime.utcnow().replace(tzinfo=pytz.UTC)\n"
     ]
    }
   ],
   "source": [
    "resultados = []\n",
    "metadata = []\n",
    "\n",
    "for code in sp_codes:\n",
    "    datos = obtener_datos_estacion(code)\n",
    "    resumen = procesar_datos(datos)\n",
    "    meta = obtener_metadata_sp(code)\n",
    "    if resumen and meta:\n",
    "        resumen[\"estacion\"] = code\n",
    "        meta.update(resumen)\n",
    "        resultados.append(resumen)\n",
    "        metadata.append(meta)\n",
    "\n",
    "df_meta = pd.DataFrame(metadata)"
   ]
  },
  {
   "cell_type": "code",
   "execution_count": 9,
   "id": "751aebdb-cdb0-4300-8bab-9795ed5efcbf",
   "metadata": {},
   "outputs": [
    {
     "data": {
      "text/html": [
       "<div>\n",
       "<style scoped>\n",
       "    .dataframe tbody tr th:only-of-type {\n",
       "        vertical-align: middle;\n",
       "    }\n",
       "\n",
       "    .dataframe tbody tr th {\n",
       "        vertical-align: top;\n",
       "    }\n",
       "\n",
       "    .dataframe thead th {\n",
       "        text-align: right;\n",
       "    }\n",
       "</style>\n",
       "<table border=\"1\" class=\"dataframe\">\n",
       "  <thead>\n",
       "    <tr style=\"text-align: right;\">\n",
       "      <th></th>\n",
       "      <th>estacion</th>\n",
       "      <th>codigo</th>\n",
       "      <th>descripcion</th>\n",
       "      <th>nombre_web</th>\n",
       "      <th>latitud</th>\n",
       "      <th>longitud</th>\n",
       "      <th>municipio</th>\n",
       "      <th>region</th>\n",
       "      <th>acum_6h</th>\n",
       "      <th>acum_24h</th>\n",
       "      <th>acum_72h</th>\n",
       "      <th>ultimo_dia_meteorologico</th>\n",
       "      <th>ultimos_7_dias_meteorologicos</th>\n",
       "      <th>ultimos_30_dias_meteorologicos</th>\n",
       "      <th>datos_recientes</th>\n",
       "      <th>dias_sin_datos</th>\n",
       "      <th>fecha_ultimo_dato</th>\n",
       "      <th>serie_120h</th>\n",
       "    </tr>\n",
       "  </thead>\n",
       "  <tbody>\n",
       "    <tr>\n",
       "      <th>0</th>\n",
       "      <td>101</td>\n",
       "      <td>sp_101</td>\n",
       "      <td>Latitud 6.11384, longitud -75.98488</td>\n",
       "      <td>sp_101 - Latitud 6.11384, longitud -75.98488</td>\n",
       "      <td>6.112790</td>\n",
       "      <td>-75.990630</td>\n",
       "      <td>89</td>\n",
       "      <td>8</td>\n",
       "      <td>0.0</td>\n",
       "      <td>31.242</td>\n",
       "      <td>33.274</td>\n",
       "      <td>31.242</td>\n",
       "      <td>33.274</td>\n",
       "      <td>33.274</td>\n",
       "      <td>1</td>\n",
       "      <td>0</td>\n",
       "      <td>2025-09-02 11:16:00+00:00</td>\n",
       "      <td>[{'hora': 2025-09-02 15:16:06.683051+00:00, 'a...</td>\n",
       "    </tr>\n",
       "    <tr>\n",
       "      <th>1</th>\n",
       "      <td>102</td>\n",
       "      <td>sp_102</td>\n",
       "      <td>Latitud 7.75208, longitud -75.25359</td>\n",
       "      <td>sp_102 - Latitud 7.75208, longitud -75.25359</td>\n",
       "      <td>7.752100</td>\n",
       "      <td>-75.253580</td>\n",
       "      <td>117</td>\n",
       "      <td>2</td>\n",
       "      <td>0.0</td>\n",
       "      <td>22.352</td>\n",
       "      <td>33.782</td>\n",
       "      <td>22.352</td>\n",
       "      <td>64.008</td>\n",
       "      <td>64.008</td>\n",
       "      <td>1</td>\n",
       "      <td>0</td>\n",
       "      <td>2025-09-02 11:16:00+00:00</td>\n",
       "      <td>[{'hora': 2025-09-02 15:16:07.397563+00:00, 'a...</td>\n",
       "    </tr>\n",
       "    <tr>\n",
       "      <th>2</th>\n",
       "      <td>103</td>\n",
       "      <td>sp_103</td>\n",
       "      <td>latitud 5.99233 longitud -7604976</td>\n",
       "      <td>sp_103 - latitud 5.99233 longitud -7604976</td>\n",
       "      <td>5.992330</td>\n",
       "      <td>-76.049760</td>\n",
       "      <td>85</td>\n",
       "      <td>8</td>\n",
       "      <td>0.0</td>\n",
       "      <td>44.450</td>\n",
       "      <td>44.958</td>\n",
       "      <td>44.450</td>\n",
       "      <td>44.958</td>\n",
       "      <td>44.958</td>\n",
       "      <td>1</td>\n",
       "      <td>0</td>\n",
       "      <td>2025-09-02 11:16:00+00:00</td>\n",
       "      <td>[{'hora': 2025-09-02 15:16:08.071103+00:00, 'a...</td>\n",
       "    </tr>\n",
       "    <tr>\n",
       "      <th>3</th>\n",
       "      <td>104</td>\n",
       "      <td>sp_104</td>\n",
       "      <td>latitud 6.90747  longitud -756721</td>\n",
       "      <td>sp_104 - latitud 6.90747  longitud -756721</td>\n",
       "      <td>6.907470</td>\n",
       "      <td>-75.672100</td>\n",
       "      <td>49</td>\n",
       "      <td>5</td>\n",
       "      <td>0.0</td>\n",
       "      <td>0.000</td>\n",
       "      <td>0.254</td>\n",
       "      <td>0.254</td>\n",
       "      <td>0.762</td>\n",
       "      <td>0.762</td>\n",
       "      <td>0</td>\n",
       "      <td>1</td>\n",
       "      <td>2025-09-01 14:31:00+00:00</td>\n",
       "      <td>[{'hora': 2025-09-02 15:16:08.794983+00:00, 'a...</td>\n",
       "    </tr>\n",
       "    <tr>\n",
       "      <th>4</th>\n",
       "      <td>106</td>\n",
       "      <td>sp_106</td>\n",
       "      <td>Latitud 5.71657 longitud -74.81221666666667</td>\n",
       "      <td>sp_106 - Latitud 5.71657 longitud -74.81221666...</td>\n",
       "      <td>5.716550</td>\n",
       "      <td>-74.812200</td>\n",
       "      <td>18</td>\n",
       "      <td>7</td>\n",
       "      <td>0.0</td>\n",
       "      <td>0.000</td>\n",
       "      <td>0.000</td>\n",
       "      <td>0.000</td>\n",
       "      <td>1.200</td>\n",
       "      <td>1.200</td>\n",
       "      <td>0</td>\n",
       "      <td>4</td>\n",
       "      <td>2025-08-29 10:17:00+00:00</td>\n",
       "      <td>[{'hora': 2025-09-02 15:16:09.450772+00:00, 'a...</td>\n",
       "    </tr>\n",
       "    <tr>\n",
       "      <th>5</th>\n",
       "      <td>108</td>\n",
       "      <td>sp_108</td>\n",
       "      <td>Latitud 7.43319 longitud -74.86089</td>\n",
       "      <td>sp_108 - Latitud 7.43319 longitud -74.86089</td>\n",
       "      <td>7.433190</td>\n",
       "      <td>-74.860890</td>\n",
       "      <td>113</td>\n",
       "      <td>2</td>\n",
       "      <td>0.0</td>\n",
       "      <td>0.000</td>\n",
       "      <td>0.000</td>\n",
       "      <td>0.000</td>\n",
       "      <td>0.000</td>\n",
       "      <td>39.624</td>\n",
       "      <td>0</td>\n",
       "      <td>11</td>\n",
       "      <td>2025-08-22 01:01:00+00:00</td>\n",
       "      <td>[{'hora': 2025-09-02 15:16:10.154604+00:00, 'a...</td>\n",
       "    </tr>\n",
       "    <tr>\n",
       "      <th>6</th>\n",
       "      <td>109</td>\n",
       "      <td>sp_109</td>\n",
       "      <td>Longitud -76.51716, Latitud 7.29571</td>\n",
       "      <td>sp_109 - Longitud -76.51716, Latitud 7.29571</td>\n",
       "      <td>7.295690</td>\n",
       "      <td>-76.517340</td>\n",
       "      <td>58</td>\n",
       "      <td>9</td>\n",
       "      <td>0.0</td>\n",
       "      <td>31.242</td>\n",
       "      <td>129.540</td>\n",
       "      <td>54.356</td>\n",
       "      <td>132.080</td>\n",
       "      <td>132.080</td>\n",
       "      <td>1</td>\n",
       "      <td>0</td>\n",
       "      <td>2025-09-02 11:16:00+00:00</td>\n",
       "      <td>[{'hora': 2025-09-02 15:16:10.943807+00:00, 'a...</td>\n",
       "    </tr>\n",
       "    <tr>\n",
       "      <th>7</th>\n",
       "      <td>131</td>\n",
       "      <td>sp_131</td>\n",
       "      <td>longitud 5.6478123 latitud -75,9518005</td>\n",
       "      <td>sp_131 - longitud 5.6478123 latitud -75,9518005</td>\n",
       "      <td>5.647880</td>\n",
       "      <td>-75.951490</td>\n",
       "      <td>71</td>\n",
       "      <td>8</td>\n",
       "      <td>0.0</td>\n",
       "      <td>2.794</td>\n",
       "      <td>28.194</td>\n",
       "      <td>2.794</td>\n",
       "      <td>28.702</td>\n",
       "      <td>28.702</td>\n",
       "      <td>1</td>\n",
       "      <td>0</td>\n",
       "      <td>2025-09-02 11:16:00+00:00</td>\n",
       "      <td>[{'hora': 2025-09-02 15:16:11.681404+00:00, 'a...</td>\n",
       "    </tr>\n",
       "    <tr>\n",
       "      <th>8</th>\n",
       "      <td>132</td>\n",
       "      <td>sp_132</td>\n",
       "      <td>longitud 8.6150 latitud -76,3817</td>\n",
       "      <td>sp_132 - longitud 8.6150 latitud -76,3817</td>\n",
       "      <td>8.614980</td>\n",
       "      <td>-76.381780</td>\n",
       "      <td>125</td>\n",
       "      <td>9</td>\n",
       "      <td>0.0</td>\n",
       "      <td>2.286</td>\n",
       "      <td>3.302</td>\n",
       "      <td>2.032</td>\n",
       "      <td>6.096</td>\n",
       "      <td>6.096</td>\n",
       "      <td>1</td>\n",
       "      <td>0</td>\n",
       "      <td>2025-09-02 11:16:00+00:00</td>\n",
       "      <td>[{'hora': 2025-09-02 15:16:12.442544+00:00, 'a...</td>\n",
       "    </tr>\n",
       "    <tr>\n",
       "      <th>9</th>\n",
       "      <td>133</td>\n",
       "      <td>sp_133</td>\n",
       "      <td>longitud 6,5596 latitud -75,1033</td>\n",
       "      <td>sp_133 - longitud 6,5596 latitud -75,1033</td>\n",
       "      <td>6.559650</td>\n",
       "      <td>-75.103290</td>\n",
       "      <td>104</td>\n",
       "      <td>4</td>\n",
       "      <td>0.0</td>\n",
       "      <td>57.912</td>\n",
       "      <td>58.166</td>\n",
       "      <td>57.912</td>\n",
       "      <td>58.420</td>\n",
       "      <td>58.420</td>\n",
       "      <td>1</td>\n",
       "      <td>0</td>\n",
       "      <td>2025-09-02 11:16:00+00:00</td>\n",
       "      <td>[{'hora': 2025-09-02 15:16:13.176204+00:00, 'a...</td>\n",
       "    </tr>\n",
       "    <tr>\n",
       "      <th>10</th>\n",
       "      <td>134</td>\n",
       "      <td>sp_134</td>\n",
       "      <td>Latitud 6.5365  Longitud -75.1212</td>\n",
       "      <td>sp_134 - Latitud 6.5365  Longitud -75.1212</td>\n",
       "      <td>6.536570</td>\n",
       "      <td>-75.121010</td>\n",
       "      <td>104</td>\n",
       "      <td>4</td>\n",
       "      <td>0.0</td>\n",
       "      <td>48.260</td>\n",
       "      <td>48.768</td>\n",
       "      <td>48.260</td>\n",
       "      <td>49.530</td>\n",
       "      <td>49.530</td>\n",
       "      <td>1</td>\n",
       "      <td>0</td>\n",
       "      <td>2025-09-02 11:16:00+00:00</td>\n",
       "      <td>[{'hora': 2025-09-02 15:16:13.875640+00:00, 'a...</td>\n",
       "    </tr>\n",
       "    <tr>\n",
       "      <th>11</th>\n",
       "      <td>135</td>\n",
       "      <td>sp_135</td>\n",
       "      <td>Latitud 6,194884999999999 Longitud-74,991105</td>\n",
       "      <td>sp_135 - Latitud 6,194884999999999 Longitud-74...</td>\n",
       "      <td>6.194920</td>\n",
       "      <td>-74.991170</td>\n",
       "      <td>93</td>\n",
       "      <td>7</td>\n",
       "      <td>0.0</td>\n",
       "      <td>4.064</td>\n",
       "      <td>9.144</td>\n",
       "      <td>4.064</td>\n",
       "      <td>9.144</td>\n",
       "      <td>9.144</td>\n",
       "      <td>1</td>\n",
       "      <td>0</td>\n",
       "      <td>2025-09-02 11:16:00+00:00</td>\n",
       "      <td>[{'hora': 2025-09-02 15:16:14.673316+00:00, 'a...</td>\n",
       "    </tr>\n",
       "    <tr>\n",
       "      <th>12</th>\n",
       "      <td>136</td>\n",
       "      <td>sp_136</td>\n",
       "      <td>longitud 6,17647 latitud -74,99002</td>\n",
       "      <td>sp_136 - longitud 6,17647 latitud -74,99002</td>\n",
       "      <td>6.176390</td>\n",
       "      <td>-74.990000</td>\n",
       "      <td>93</td>\n",
       "      <td>7</td>\n",
       "      <td>0.0</td>\n",
       "      <td>2.286</td>\n",
       "      <td>10.414</td>\n",
       "      <td>2.286</td>\n",
       "      <td>10.414</td>\n",
       "      <td>10.414</td>\n",
       "      <td>1</td>\n",
       "      <td>0</td>\n",
       "      <td>2025-09-02 11:16:00+00:00</td>\n",
       "      <td>[{'hora': 2025-09-02 15:16:15.478105+00:00, 'a...</td>\n",
       "    </tr>\n",
       "    <tr>\n",
       "      <th>13</th>\n",
       "      <td>138</td>\n",
       "      <td>sp_138</td>\n",
       "      <td>latitud-8.69401  longitud- 76.49365</td>\n",
       "      <td>sp_138 - latitud-8.69401  longitud- 76.49365</td>\n",
       "      <td>8.694000</td>\n",
       "      <td>-76.493700</td>\n",
       "      <td>124</td>\n",
       "      <td>9</td>\n",
       "      <td>0.0</td>\n",
       "      <td>3.048</td>\n",
       "      <td>7.874</td>\n",
       "      <td>2.794</td>\n",
       "      <td>21.844</td>\n",
       "      <td>21.844</td>\n",
       "      <td>1</td>\n",
       "      <td>0</td>\n",
       "      <td>2025-09-02 11:16:00+00:00</td>\n",
       "      <td>[{'hora': 2025-09-02 15:16:16.923277+00:00, 'a...</td>\n",
       "    </tr>\n",
       "    <tr>\n",
       "      <th>14</th>\n",
       "      <td>139</td>\n",
       "      <td>sp_139</td>\n",
       "      <td>Latitud 8.2798606 longitud  -76.3837889</td>\n",
       "      <td>sp_139 - Latitud 8.2798606 longitud  -76.3837889</td>\n",
       "      <td>8.279890</td>\n",
       "      <td>-76.383710</td>\n",
       "      <td>9</td>\n",
       "      <td>9</td>\n",
       "      <td>0.0</td>\n",
       "      <td>0.254</td>\n",
       "      <td>0.762</td>\n",
       "      <td>0.254</td>\n",
       "      <td>1.270</td>\n",
       "      <td>1.270</td>\n",
       "      <td>1</td>\n",
       "      <td>0</td>\n",
       "      <td>2025-09-02 11:16:00+00:00</td>\n",
       "      <td>[{'hora': 2025-09-02 15:16:17.647516+00:00, 'a...</td>\n",
       "    </tr>\n",
       "    <tr>\n",
       "      <th>15</th>\n",
       "      <td>140</td>\n",
       "      <td>sp_140</td>\n",
       "      <td>longitud 6,49746 latitud -75,1132</td>\n",
       "      <td>sp_140 - longitud 6,49746 latitud -75,1132</td>\n",
       "      <td>6.497500</td>\n",
       "      <td>-75.113280</td>\n",
       "      <td>102</td>\n",
       "      <td>4</td>\n",
       "      <td>0.0</td>\n",
       "      <td>60.198</td>\n",
       "      <td>61.722</td>\n",
       "      <td>60.198</td>\n",
       "      <td>64.262</td>\n",
       "      <td>64.262</td>\n",
       "      <td>1</td>\n",
       "      <td>0</td>\n",
       "      <td>2025-09-02 11:16:00+00:00</td>\n",
       "      <td>[{'hora': 2025-09-02 15:16:18.462243+00:00, 'a...</td>\n",
       "    </tr>\n",
       "    <tr>\n",
       "      <th>16</th>\n",
       "      <td>141</td>\n",
       "      <td>sp_141</td>\n",
       "      <td>Latitud 6,181109999999999 Longitud -76,1486133...</td>\n",
       "      <td>sp_141 - Latitud 6,181109999999999 Longitud -7...</td>\n",
       "      <td>6.181050</td>\n",
       "      <td>-76.148690</td>\n",
       "      <td>105</td>\n",
       "      <td>8</td>\n",
       "      <td>0.0</td>\n",
       "      <td>29.464</td>\n",
       "      <td>30.988</td>\n",
       "      <td>29.464</td>\n",
       "      <td>30.988</td>\n",
       "      <td>30.988</td>\n",
       "      <td>1</td>\n",
       "      <td>0</td>\n",
       "      <td>2025-09-02 11:16:00+00:00</td>\n",
       "      <td>[{'hora': 2025-09-02 15:16:19.166399+00:00, 'a...</td>\n",
       "    </tr>\n",
       "    <tr>\n",
       "      <th>17</th>\n",
       "      <td>142</td>\n",
       "      <td>sp_142</td>\n",
       "      <td>Latitud 6.15163 longitud -76.05826</td>\n",
       "      <td>sp_142 - Latitud 6.15163 longitud -76.05826</td>\n",
       "      <td>6.151610</td>\n",
       "      <td>-76.058230</td>\n",
       "      <td>105</td>\n",
       "      <td>8</td>\n",
       "      <td>0.0</td>\n",
       "      <td>34.036</td>\n",
       "      <td>45.466</td>\n",
       "      <td>34.036</td>\n",
       "      <td>45.466</td>\n",
       "      <td>45.466</td>\n",
       "      <td>1</td>\n",
       "      <td>0</td>\n",
       "      <td>2025-09-02 11:16:00+00:00</td>\n",
       "      <td>[{'hora': 2025-09-02 15:16:19.893950+00:00, 'a...</td>\n",
       "    </tr>\n",
       "    <tr>\n",
       "      <th>18</th>\n",
       "      <td>143</td>\n",
       "      <td>sp_143</td>\n",
       "      <td>Latitud 6.25774 Longitud -76.1283</td>\n",
       "      <td>sp_143 - Latitud 6.25774 Longitud -76.1283</td>\n",
       "      <td>6.257730</td>\n",
       "      <td>-76.128230</td>\n",
       "      <td>105</td>\n",
       "      <td>8</td>\n",
       "      <td>0.0</td>\n",
       "      <td>42.672</td>\n",
       "      <td>47.498</td>\n",
       "      <td>42.672</td>\n",
       "      <td>47.498</td>\n",
       "      <td>47.498</td>\n",
       "      <td>1</td>\n",
       "      <td>0</td>\n",
       "      <td>2025-09-02 11:16:00+00:00</td>\n",
       "      <td>[{'hora': 2025-09-02 15:16:20.571370+00:00, 'a...</td>\n",
       "    </tr>\n",
       "    <tr>\n",
       "      <th>19</th>\n",
       "      <td>144</td>\n",
       "      <td>sp_144</td>\n",
       "      <td>longitud 5.6973847 latitud -75,9519485</td>\n",
       "      <td>sp_144 - longitud 5.6973847 latitud -75,9519485</td>\n",
       "      <td>5.690110</td>\n",
       "      <td>-75.995780</td>\n",
       "      <td>72</td>\n",
       "      <td>8</td>\n",
       "      <td>0.0</td>\n",
       "      <td>3.048</td>\n",
       "      <td>9.144</td>\n",
       "      <td>3.048</td>\n",
       "      <td>9.144</td>\n",
       "      <td>9.144</td>\n",
       "      <td>1</td>\n",
       "      <td>0</td>\n",
       "      <td>2025-09-02 11:16:00+00:00</td>\n",
       "      <td>[{'hora': 2025-09-02 15:16:21.299362+00:00, 'a...</td>\n",
       "    </tr>\n",
       "    <tr>\n",
       "      <th>20</th>\n",
       "      <td>145</td>\n",
       "      <td>sp_145</td>\n",
       "      <td></td>\n",
       "      <td>sp_145 -</td>\n",
       "      <td>6.412220</td>\n",
       "      <td>-74.755220</td>\n",
       "      <td>96</td>\n",
       "      <td>3</td>\n",
       "      <td>0.0</td>\n",
       "      <td>0.762</td>\n",
       "      <td>1.778</td>\n",
       "      <td>1.016</td>\n",
       "      <td>8.890</td>\n",
       "      <td>8.890</td>\n",
       "      <td>1</td>\n",
       "      <td>0</td>\n",
       "      <td>2025-09-02 11:16:00+00:00</td>\n",
       "      <td>[{'hora': 2025-09-02 15:16:22.057068+00:00, 'a...</td>\n",
       "    </tr>\n",
       "    <tr>\n",
       "      <th>21</th>\n",
       "      <td>146</td>\n",
       "      <td>sp_146</td>\n",
       "      <td>Latitud 6,10325 , longitud -75,24032</td>\n",
       "      <td>sp_146 - Latitud 6,10325 , longitud -75,24032</td>\n",
       "      <td>6.103250</td>\n",
       "      <td>-75.240320</td>\n",
       "      <td>8</td>\n",
       "      <td>7</td>\n",
       "      <td>0.0</td>\n",
       "      <td>6.096</td>\n",
       "      <td>37.338</td>\n",
       "      <td>6.096</td>\n",
       "      <td>37.338</td>\n",
       "      <td>37.338</td>\n",
       "      <td>1</td>\n",
       "      <td>0</td>\n",
       "      <td>2025-09-02 11:16:00+00:00</td>\n",
       "      <td>[{'hora': 2025-09-02 15:16:23.017020+00:00, 'a...</td>\n",
       "    </tr>\n",
       "    <tr>\n",
       "      <th>22</th>\n",
       "      <td>147</td>\n",
       "      <td>sp_147</td>\n",
       "      <td></td>\n",
       "      <td>sp_147 -</td>\n",
       "      <td>6.978245</td>\n",
       "      <td>-76.819669</td>\n",
       "      <td>50</td>\n",
       "      <td>9</td>\n",
       "      <td>0.0</td>\n",
       "      <td>0.000</td>\n",
       "      <td>0.000</td>\n",
       "      <td>0.000</td>\n",
       "      <td>0.000</td>\n",
       "      <td>0.000</td>\n",
       "      <td>0</td>\n",
       "      <td>298</td>\n",
       "      <td>2024-11-08 10:41:00+00:00</td>\n",
       "      <td>[{'hora': 2025-09-02 15:16:23.626444+00:00, 'a...</td>\n",
       "    </tr>\n",
       "    <tr>\n",
       "      <th>23</th>\n",
       "      <td>149</td>\n",
       "      <td>sp_149</td>\n",
       "      <td>latitud 6,40053 longitud -74,76368</td>\n",
       "      <td>sp_149 - latitud 6,40053 longitud -74,76368</td>\n",
       "      <td>6.400530</td>\n",
       "      <td>-74.763680</td>\n",
       "      <td>96</td>\n",
       "      <td>4</td>\n",
       "      <td>0.0</td>\n",
       "      <td>1.016</td>\n",
       "      <td>1.524</td>\n",
       "      <td>1.016</td>\n",
       "      <td>10.414</td>\n",
       "      <td>10.414</td>\n",
       "      <td>1</td>\n",
       "      <td>0</td>\n",
       "      <td>2025-09-02 11:16:00+00:00</td>\n",
       "      <td>[{'hora': 2025-09-02 15:16:24.325625+00:00, 'a...</td>\n",
       "    </tr>\n",
       "    <tr>\n",
       "      <th>24</th>\n",
       "      <td>150</td>\n",
       "      <td>sp_150</td>\n",
       "      <td>latitud 7,4357702 longitud -74,68611</td>\n",
       "      <td>sp_150 - latitud 7,4357702 longitud -74,68611</td>\n",
       "      <td>7.435770</td>\n",
       "      <td>-74.686110</td>\n",
       "      <td>118</td>\n",
       "      <td>2</td>\n",
       "      <td>0.0</td>\n",
       "      <td>30.480</td>\n",
       "      <td>32.512</td>\n",
       "      <td>30.226</td>\n",
       "      <td>36.068</td>\n",
       "      <td>36.068</td>\n",
       "      <td>1</td>\n",
       "      <td>0</td>\n",
       "      <td>2025-09-02 11:11:00+00:00</td>\n",
       "      <td>[{'hora': 2025-09-02 15:16:24.994697+00:00, 'a...</td>\n",
       "    </tr>\n",
       "    <tr>\n",
       "      <th>25</th>\n",
       "      <td>151</td>\n",
       "      <td>sp_151</td>\n",
       "      <td></td>\n",
       "      <td>sp_151 -</td>\n",
       "      <td>5.881300</td>\n",
       "      <td>-74.808080</td>\n",
       "      <td>83</td>\n",
       "      <td>3</td>\n",
       "      <td>0.0</td>\n",
       "      <td>0.000</td>\n",
       "      <td>0.000</td>\n",
       "      <td>0.000</td>\n",
       "      <td>3.100</td>\n",
       "      <td>3.100</td>\n",
       "      <td>0</td>\n",
       "      <td>4</td>\n",
       "      <td>2025-08-28 16:17:00+00:00</td>\n",
       "      <td>[{'hora': 2025-09-02 15:16:25.526151+00:00, 'a...</td>\n",
       "    </tr>\n",
       "    <tr>\n",
       "      <th>26</th>\n",
       "      <td>154</td>\n",
       "      <td>sp_154</td>\n",
       "      <td></td>\n",
       "      <td>sp_154 -</td>\n",
       "      <td>7.004049</td>\n",
       "      <td>-74.256517</td>\n",
       "      <td>108</td>\n",
       "      <td>4</td>\n",
       "      <td>0.0</td>\n",
       "      <td>0.000</td>\n",
       "      <td>0.000</td>\n",
       "      <td>0.000</td>\n",
       "      <td>0.000</td>\n",
       "      <td>3.302</td>\n",
       "      <td>1</td>\n",
       "      <td>0</td>\n",
       "      <td>2025-09-02 11:16:00+00:00</td>\n",
       "      <td>[{'hora': 2025-09-02 15:16:26.584044+00:00, 'a...</td>\n",
       "    </tr>\n",
       "    <tr>\n",
       "      <th>27</th>\n",
       "      <td>155</td>\n",
       "      <td>sp_155</td>\n",
       "      <td></td>\n",
       "      <td>sp_155 -</td>\n",
       "      <td>6.013250</td>\n",
       "      <td>-75.452620</td>\n",
       "      <td>84</td>\n",
       "      <td>7</td>\n",
       "      <td>0.0</td>\n",
       "      <td>0.000</td>\n",
       "      <td>0.000</td>\n",
       "      <td>0.000</td>\n",
       "      <td>0.000</td>\n",
       "      <td>20.066</td>\n",
       "      <td>1</td>\n",
       "      <td>0</td>\n",
       "      <td>2025-09-01 17:51:00+00:00</td>\n",
       "      <td>[{'hora': 2025-09-02 15:16:27.236986+00:00, 'a...</td>\n",
       "    </tr>\n",
       "    <tr>\n",
       "      <th>28</th>\n",
       "      <td>156</td>\n",
       "      <td>sp_156</td>\n",
       "      <td></td>\n",
       "      <td>sp_156 -</td>\n",
       "      <td>6.764290</td>\n",
       "      <td>-75.748910</td>\n",
       "      <td>37</td>\n",
       "      <td>7</td>\n",
       "      <td>0.0</td>\n",
       "      <td>0.000</td>\n",
       "      <td>0.000</td>\n",
       "      <td>0.000</td>\n",
       "      <td>0.254</td>\n",
       "      <td>0.254</td>\n",
       "      <td>0</td>\n",
       "      <td>4</td>\n",
       "      <td>2025-08-29 09:56:00+00:00</td>\n",
       "      <td>[{'hora': 2025-09-02 15:16:27.900280+00:00, 'a...</td>\n",
       "    </tr>\n",
       "    <tr>\n",
       "      <th>29</th>\n",
       "      <td>157</td>\n",
       "      <td>sp_157</td>\n",
       "      <td>Santo Domingo - Bello</td>\n",
       "      <td>sp_157 - Santo Domingo - Bello</td>\n",
       "      <td>6.304973</td>\n",
       "      <td>-75.526808</td>\n",
       "      <td>33</td>\n",
       "      <td>1</td>\n",
       "      <td>0.0</td>\n",
       "      <td>4.600</td>\n",
       "      <td>5.800</td>\n",
       "      <td>4.600</td>\n",
       "      <td>6.200</td>\n",
       "      <td>6.200</td>\n",
       "      <td>1</td>\n",
       "      <td>0</td>\n",
       "      <td>2025-09-02 11:16:00+00:00</td>\n",
       "      <td>[{'hora': 2025-09-02 15:16:28.482763+00:00, 'a...</td>\n",
       "    </tr>\n",
       "    <tr>\n",
       "      <th>30</th>\n",
       "      <td>158</td>\n",
       "      <td>sp_158</td>\n",
       "      <td>Pluviometro - Omicron</td>\n",
       "      <td>sp_158 - Pluviometro - Omicron</td>\n",
       "      <td>6.131717</td>\n",
       "      <td>-75.400922</td>\n",
       "      <td>6</td>\n",
       "      <td>7</td>\n",
       "      <td>0.0</td>\n",
       "      <td>0.000</td>\n",
       "      <td>0.000</td>\n",
       "      <td>0.000</td>\n",
       "      <td>10.900</td>\n",
       "      <td>10.900</td>\n",
       "      <td>0</td>\n",
       "      <td>6</td>\n",
       "      <td>2025-08-27 15:08:00+00:00</td>\n",
       "      <td>[{'hora': 2025-09-02 15:16:29.037058+00:00, 'a...</td>\n",
       "    </tr>\n",
       "    <tr>\n",
       "      <th>31</th>\n",
       "      <td>159</td>\n",
       "      <td>sp_159</td>\n",
       "      <td>latitud 5.94395 longitud -75.71544</td>\n",
       "      <td>sp_159 - latitud 5.94395 longitud -75.71544</td>\n",
       "      <td>5.943950</td>\n",
       "      <td>-75.715440</td>\n",
       "      <td>81</td>\n",
       "      <td>8</td>\n",
       "      <td>0.0</td>\n",
       "      <td>11.000</td>\n",
       "      <td>20.400</td>\n",
       "      <td>11.000</td>\n",
       "      <td>20.400</td>\n",
       "      <td>20.400</td>\n",
       "      <td>1</td>\n",
       "      <td>0</td>\n",
       "      <td>2025-09-02 11:13:00+00:00</td>\n",
       "      <td>[{'hora': 2025-09-02 15:16:29.640321+00:00, 'a...</td>\n",
       "    </tr>\n",
       "    <tr>\n",
       "      <th>32</th>\n",
       "      <td>160</td>\n",
       "      <td>sp_160</td>\n",
       "      <td>latitud 6.4495 longitud -74.5016</td>\n",
       "      <td>sp_160 - latitud 6.4495 longitud -74.5016</td>\n",
       "      <td>6.450129</td>\n",
       "      <td>-74.501600</td>\n",
       "      <td>24</td>\n",
       "      <td>3</td>\n",
       "      <td>0.0</td>\n",
       "      <td>0.400</td>\n",
       "      <td>6.400</td>\n",
       "      <td>0.400</td>\n",
       "      <td>47.200</td>\n",
       "      <td>47.200</td>\n",
       "      <td>1</td>\n",
       "      <td>0</td>\n",
       "      <td>2025-09-02 11:16:00+00:00</td>\n",
       "      <td>[{'hora': 2025-09-02 15:16:30.201621+00:00, 'a...</td>\n",
       "    </tr>\n",
       "    <tr>\n",
       "      <th>33</th>\n",
       "      <td>161</td>\n",
       "      <td>sp_161</td>\n",
       "      <td>latitud 7.108382 longitud -75.558117</td>\n",
       "      <td>sp_161 - latitud 7.108382 longitud -75.558117</td>\n",
       "      <td>7.108083</td>\n",
       "      <td>-75.558312</td>\n",
       "      <td>68</td>\n",
       "      <td>5</td>\n",
       "      <td>0.0</td>\n",
       "      <td>1.000</td>\n",
       "      <td>13.000</td>\n",
       "      <td>12.800</td>\n",
       "      <td>22.000</td>\n",
       "      <td>22.000</td>\n",
       "      <td>1</td>\n",
       "      <td>0</td>\n",
       "      <td>2025-09-02 11:13:00+00:00</td>\n",
       "      <td>[{'hora': 2025-09-02 15:16:30.966139+00:00, 'a...</td>\n",
       "    </tr>\n",
       "    <tr>\n",
       "      <th>34</th>\n",
       "      <td>162</td>\n",
       "      <td>sp_162</td>\n",
       "      <td>latitud 5.85166 longitud -76.04858</td>\n",
       "      <td>sp_162 - latitud 5.85166 longitud -76.04858</td>\n",
       "      <td>5.851660</td>\n",
       "      <td>-76.048580</td>\n",
       "      <td>74</td>\n",
       "      <td>8</td>\n",
       "      <td>0.0</td>\n",
       "      <td>26.000</td>\n",
       "      <td>27.000</td>\n",
       "      <td>26.000</td>\n",
       "      <td>27.000</td>\n",
       "      <td>27.000</td>\n",
       "      <td>1</td>\n",
       "      <td>0</td>\n",
       "      <td>2025-09-02 11:16:00+00:00</td>\n",
       "      <td>[{'hora': 2025-09-02 15:16:31.554353+00:00, 'a...</td>\n",
       "    </tr>\n",
       "    <tr>\n",
       "      <th>35</th>\n",
       "      <td>163</td>\n",
       "      <td>sp_163</td>\n",
       "      <td>latitud 5.744067 longitud -75.607156</td>\n",
       "      <td>sp_163 - latitud 5.744067 longitud -75.607156</td>\n",
       "      <td>5.741768</td>\n",
       "      <td>-75.607941</td>\n",
       "      <td>35</td>\n",
       "      <td>2</td>\n",
       "      <td>0.0</td>\n",
       "      <td>6.000</td>\n",
       "      <td>36.600</td>\n",
       "      <td>6.000</td>\n",
       "      <td>36.600</td>\n",
       "      <td>36.600</td>\n",
       "      <td>1</td>\n",
       "      <td>0</td>\n",
       "      <td>2025-09-02 11:12:00+00:00</td>\n",
       "      <td>[{'hora': 2025-09-02 15:16:32.166346+00:00, 'a...</td>\n",
       "    </tr>\n",
       "  </tbody>\n",
       "</table>\n",
       "</div>"
      ],
      "text/plain": [
       "   estacion  codigo                                        descripcion  \\\n",
       "0       101  sp_101                Latitud 6.11384, longitud -75.98488   \n",
       "1       102  sp_102                Latitud 7.75208, longitud -75.25359   \n",
       "2       103  sp_103                  latitud 5.99233 longitud -7604976   \n",
       "3       104  sp_104                  latitud 6.90747  longitud -756721   \n",
       "4       106  sp_106        Latitud 5.71657 longitud -74.81221666666667   \n",
       "5       108  sp_108                 Latitud 7.43319 longitud -74.86089   \n",
       "6       109  sp_109                Longitud -76.51716, Latitud 7.29571   \n",
       "7       131  sp_131             longitud 5.6478123 latitud -75,9518005   \n",
       "8       132  sp_132                   longitud 8.6150 latitud -76,3817   \n",
       "9       133  sp_133                   longitud 6,5596 latitud -75,1033   \n",
       "10      134  sp_134                  Latitud 6.5365  Longitud -75.1212   \n",
       "11      135  sp_135       Latitud 6,194884999999999 Longitud-74,991105   \n",
       "12      136  sp_136                 longitud 6,17647 latitud -74,99002   \n",
       "13      138  sp_138                latitud-8.69401  longitud- 76.49365   \n",
       "14      139  sp_139            Latitud 8.2798606 longitud  -76.3837889   \n",
       "15      140  sp_140                  longitud 6,49746 latitud -75,1132   \n",
       "16      141  sp_141  Latitud 6,181109999999999 Longitud -76,1486133...   \n",
       "17      142  sp_142                 Latitud 6.15163 longitud -76.05826   \n",
       "18      143  sp_143                  Latitud 6.25774 Longitud -76.1283   \n",
       "19      144  sp_144             longitud 5.6973847 latitud -75,9519485   \n",
       "20      145  sp_145                                                      \n",
       "21      146  sp_146               Latitud 6,10325 , longitud -75,24032   \n",
       "22      147  sp_147                                                      \n",
       "23      149  sp_149                 latitud 6,40053 longitud -74,76368   \n",
       "24      150  sp_150               latitud 7,4357702 longitud -74,68611   \n",
       "25      151  sp_151                                                      \n",
       "26      154  sp_154                                                      \n",
       "27      155  sp_155                                                      \n",
       "28      156  sp_156                                                      \n",
       "29      157  sp_157                              Santo Domingo - Bello   \n",
       "30      158  sp_158                              Pluviometro - Omicron   \n",
       "31      159  sp_159                 latitud 5.94395 longitud -75.71544   \n",
       "32      160  sp_160                   latitud 6.4495 longitud -74.5016   \n",
       "33      161  sp_161               latitud 7.108382 longitud -75.558117   \n",
       "34      162  sp_162                 latitud 5.85166 longitud -76.04858   \n",
       "35      163  sp_163               latitud 5.744067 longitud -75.607156   \n",
       "\n",
       "                                           nombre_web   latitud   longitud  \\\n",
       "0        sp_101 - Latitud 6.11384, longitud -75.98488  6.112790 -75.990630   \n",
       "1        sp_102 - Latitud 7.75208, longitud -75.25359  7.752100 -75.253580   \n",
       "2          sp_103 - latitud 5.99233 longitud -7604976  5.992330 -76.049760   \n",
       "3          sp_104 - latitud 6.90747  longitud -756721  6.907470 -75.672100   \n",
       "4   sp_106 - Latitud 5.71657 longitud -74.81221666...  5.716550 -74.812200   \n",
       "5         sp_108 - Latitud 7.43319 longitud -74.86089  7.433190 -74.860890   \n",
       "6        sp_109 - Longitud -76.51716, Latitud 7.29571  7.295690 -76.517340   \n",
       "7     sp_131 - longitud 5.6478123 latitud -75,9518005  5.647880 -75.951490   \n",
       "8           sp_132 - longitud 8.6150 latitud -76,3817  8.614980 -76.381780   \n",
       "9           sp_133 - longitud 6,5596 latitud -75,1033  6.559650 -75.103290   \n",
       "10         sp_134 - Latitud 6.5365  Longitud -75.1212  6.536570 -75.121010   \n",
       "11  sp_135 - Latitud 6,194884999999999 Longitud-74...  6.194920 -74.991170   \n",
       "12        sp_136 - longitud 6,17647 latitud -74,99002  6.176390 -74.990000   \n",
       "13       sp_138 - latitud-8.69401  longitud- 76.49365  8.694000 -76.493700   \n",
       "14   sp_139 - Latitud 8.2798606 longitud  -76.3837889  8.279890 -76.383710   \n",
       "15         sp_140 - longitud 6,49746 latitud -75,1132  6.497500 -75.113280   \n",
       "16  sp_141 - Latitud 6,181109999999999 Longitud -7...  6.181050 -76.148690   \n",
       "17        sp_142 - Latitud 6.15163 longitud -76.05826  6.151610 -76.058230   \n",
       "18         sp_143 - Latitud 6.25774 Longitud -76.1283  6.257730 -76.128230   \n",
       "19    sp_144 - longitud 5.6973847 latitud -75,9519485  5.690110 -75.995780   \n",
       "20                                          sp_145 -   6.412220 -74.755220   \n",
       "21      sp_146 - Latitud 6,10325 , longitud -75,24032  6.103250 -75.240320   \n",
       "22                                          sp_147 -   6.978245 -76.819669   \n",
       "23        sp_149 - latitud 6,40053 longitud -74,76368  6.400530 -74.763680   \n",
       "24      sp_150 - latitud 7,4357702 longitud -74,68611  7.435770 -74.686110   \n",
       "25                                          sp_151 -   5.881300 -74.808080   \n",
       "26                                          sp_154 -   7.004049 -74.256517   \n",
       "27                                          sp_155 -   6.013250 -75.452620   \n",
       "28                                          sp_156 -   6.764290 -75.748910   \n",
       "29                     sp_157 - Santo Domingo - Bello  6.304973 -75.526808   \n",
       "30                     sp_158 - Pluviometro - Omicron  6.131717 -75.400922   \n",
       "31        sp_159 - latitud 5.94395 longitud -75.71544  5.943950 -75.715440   \n",
       "32          sp_160 - latitud 6.4495 longitud -74.5016  6.450129 -74.501600   \n",
       "33      sp_161 - latitud 7.108382 longitud -75.558117  7.108083 -75.558312   \n",
       "34        sp_162 - latitud 5.85166 longitud -76.04858  5.851660 -76.048580   \n",
       "35      sp_163 - latitud 5.744067 longitud -75.607156  5.741768 -75.607941   \n",
       "\n",
       "    municipio  region  acum_6h  acum_24h  acum_72h  ultimo_dia_meteorologico  \\\n",
       "0          89       8      0.0    31.242    33.274                    31.242   \n",
       "1         117       2      0.0    22.352    33.782                    22.352   \n",
       "2          85       8      0.0    44.450    44.958                    44.450   \n",
       "3          49       5      0.0     0.000     0.254                     0.254   \n",
       "4          18       7      0.0     0.000     0.000                     0.000   \n",
       "5         113       2      0.0     0.000     0.000                     0.000   \n",
       "6          58       9      0.0    31.242   129.540                    54.356   \n",
       "7          71       8      0.0     2.794    28.194                     2.794   \n",
       "8         125       9      0.0     2.286     3.302                     2.032   \n",
       "9         104       4      0.0    57.912    58.166                    57.912   \n",
       "10        104       4      0.0    48.260    48.768                    48.260   \n",
       "11         93       7      0.0     4.064     9.144                     4.064   \n",
       "12         93       7      0.0     2.286    10.414                     2.286   \n",
       "13        124       9      0.0     3.048     7.874                     2.794   \n",
       "14          9       9      0.0     0.254     0.762                     0.254   \n",
       "15        102       4      0.0    60.198    61.722                    60.198   \n",
       "16        105       8      0.0    29.464    30.988                    29.464   \n",
       "17        105       8      0.0    34.036    45.466                    34.036   \n",
       "18        105       8      0.0    42.672    47.498                    42.672   \n",
       "19         72       8      0.0     3.048     9.144                     3.048   \n",
       "20         96       3      0.0     0.762     1.778                     1.016   \n",
       "21          8       7      0.0     6.096    37.338                     6.096   \n",
       "22         50       9      0.0     0.000     0.000                     0.000   \n",
       "23         96       4      0.0     1.016     1.524                     1.016   \n",
       "24        118       2      0.0    30.480    32.512                    30.226   \n",
       "25         83       3      0.0     0.000     0.000                     0.000   \n",
       "26        108       4      0.0     0.000     0.000                     0.000   \n",
       "27         84       7      0.0     0.000     0.000                     0.000   \n",
       "28         37       7      0.0     0.000     0.000                     0.000   \n",
       "29         33       1      0.0     4.600     5.800                     4.600   \n",
       "30          6       7      0.0     0.000     0.000                     0.000   \n",
       "31         81       8      0.0    11.000    20.400                    11.000   \n",
       "32         24       3      0.0     0.400     6.400                     0.400   \n",
       "33         68       5      0.0     1.000    13.000                    12.800   \n",
       "34         74       8      0.0    26.000    27.000                    26.000   \n",
       "35         35       2      0.0     6.000    36.600                     6.000   \n",
       "\n",
       "    ultimos_7_dias_meteorologicos  ultimos_30_dias_meteorologicos  \\\n",
       "0                          33.274                          33.274   \n",
       "1                          64.008                          64.008   \n",
       "2                          44.958                          44.958   \n",
       "3                           0.762                           0.762   \n",
       "4                           1.200                           1.200   \n",
       "5                           0.000                          39.624   \n",
       "6                         132.080                         132.080   \n",
       "7                          28.702                          28.702   \n",
       "8                           6.096                           6.096   \n",
       "9                          58.420                          58.420   \n",
       "10                         49.530                          49.530   \n",
       "11                          9.144                           9.144   \n",
       "12                         10.414                          10.414   \n",
       "13                         21.844                          21.844   \n",
       "14                          1.270                           1.270   \n",
       "15                         64.262                          64.262   \n",
       "16                         30.988                          30.988   \n",
       "17                         45.466                          45.466   \n",
       "18                         47.498                          47.498   \n",
       "19                          9.144                           9.144   \n",
       "20                          8.890                           8.890   \n",
       "21                         37.338                          37.338   \n",
       "22                          0.000                           0.000   \n",
       "23                         10.414                          10.414   \n",
       "24                         36.068                          36.068   \n",
       "25                          3.100                           3.100   \n",
       "26                          0.000                           3.302   \n",
       "27                          0.000                          20.066   \n",
       "28                          0.254                           0.254   \n",
       "29                          6.200                           6.200   \n",
       "30                         10.900                          10.900   \n",
       "31                         20.400                          20.400   \n",
       "32                         47.200                          47.200   \n",
       "33                         22.000                          22.000   \n",
       "34                         27.000                          27.000   \n",
       "35                         36.600                          36.600   \n",
       "\n",
       "    datos_recientes  dias_sin_datos         fecha_ultimo_dato  \\\n",
       "0                 1               0 2025-09-02 11:16:00+00:00   \n",
       "1                 1               0 2025-09-02 11:16:00+00:00   \n",
       "2                 1               0 2025-09-02 11:16:00+00:00   \n",
       "3                 0               1 2025-09-01 14:31:00+00:00   \n",
       "4                 0               4 2025-08-29 10:17:00+00:00   \n",
       "5                 0              11 2025-08-22 01:01:00+00:00   \n",
       "6                 1               0 2025-09-02 11:16:00+00:00   \n",
       "7                 1               0 2025-09-02 11:16:00+00:00   \n",
       "8                 1               0 2025-09-02 11:16:00+00:00   \n",
       "9                 1               0 2025-09-02 11:16:00+00:00   \n",
       "10                1               0 2025-09-02 11:16:00+00:00   \n",
       "11                1               0 2025-09-02 11:16:00+00:00   \n",
       "12                1               0 2025-09-02 11:16:00+00:00   \n",
       "13                1               0 2025-09-02 11:16:00+00:00   \n",
       "14                1               0 2025-09-02 11:16:00+00:00   \n",
       "15                1               0 2025-09-02 11:16:00+00:00   \n",
       "16                1               0 2025-09-02 11:16:00+00:00   \n",
       "17                1               0 2025-09-02 11:16:00+00:00   \n",
       "18                1               0 2025-09-02 11:16:00+00:00   \n",
       "19                1               0 2025-09-02 11:16:00+00:00   \n",
       "20                1               0 2025-09-02 11:16:00+00:00   \n",
       "21                1               0 2025-09-02 11:16:00+00:00   \n",
       "22                0             298 2024-11-08 10:41:00+00:00   \n",
       "23                1               0 2025-09-02 11:16:00+00:00   \n",
       "24                1               0 2025-09-02 11:11:00+00:00   \n",
       "25                0               4 2025-08-28 16:17:00+00:00   \n",
       "26                1               0 2025-09-02 11:16:00+00:00   \n",
       "27                1               0 2025-09-01 17:51:00+00:00   \n",
       "28                0               4 2025-08-29 09:56:00+00:00   \n",
       "29                1               0 2025-09-02 11:16:00+00:00   \n",
       "30                0               6 2025-08-27 15:08:00+00:00   \n",
       "31                1               0 2025-09-02 11:13:00+00:00   \n",
       "32                1               0 2025-09-02 11:16:00+00:00   \n",
       "33                1               0 2025-09-02 11:13:00+00:00   \n",
       "34                1               0 2025-09-02 11:16:00+00:00   \n",
       "35                1               0 2025-09-02 11:12:00+00:00   \n",
       "\n",
       "                                           serie_120h  \n",
       "0   [{'hora': 2025-09-02 15:16:06.683051+00:00, 'a...  \n",
       "1   [{'hora': 2025-09-02 15:16:07.397563+00:00, 'a...  \n",
       "2   [{'hora': 2025-09-02 15:16:08.071103+00:00, 'a...  \n",
       "3   [{'hora': 2025-09-02 15:16:08.794983+00:00, 'a...  \n",
       "4   [{'hora': 2025-09-02 15:16:09.450772+00:00, 'a...  \n",
       "5   [{'hora': 2025-09-02 15:16:10.154604+00:00, 'a...  \n",
       "6   [{'hora': 2025-09-02 15:16:10.943807+00:00, 'a...  \n",
       "7   [{'hora': 2025-09-02 15:16:11.681404+00:00, 'a...  \n",
       "8   [{'hora': 2025-09-02 15:16:12.442544+00:00, 'a...  \n",
       "9   [{'hora': 2025-09-02 15:16:13.176204+00:00, 'a...  \n",
       "10  [{'hora': 2025-09-02 15:16:13.875640+00:00, 'a...  \n",
       "11  [{'hora': 2025-09-02 15:16:14.673316+00:00, 'a...  \n",
       "12  [{'hora': 2025-09-02 15:16:15.478105+00:00, 'a...  \n",
       "13  [{'hora': 2025-09-02 15:16:16.923277+00:00, 'a...  \n",
       "14  [{'hora': 2025-09-02 15:16:17.647516+00:00, 'a...  \n",
       "15  [{'hora': 2025-09-02 15:16:18.462243+00:00, 'a...  \n",
       "16  [{'hora': 2025-09-02 15:16:19.166399+00:00, 'a...  \n",
       "17  [{'hora': 2025-09-02 15:16:19.893950+00:00, 'a...  \n",
       "18  [{'hora': 2025-09-02 15:16:20.571370+00:00, 'a...  \n",
       "19  [{'hora': 2025-09-02 15:16:21.299362+00:00, 'a...  \n",
       "20  [{'hora': 2025-09-02 15:16:22.057068+00:00, 'a...  \n",
       "21  [{'hora': 2025-09-02 15:16:23.017020+00:00, 'a...  \n",
       "22  [{'hora': 2025-09-02 15:16:23.626444+00:00, 'a...  \n",
       "23  [{'hora': 2025-09-02 15:16:24.325625+00:00, 'a...  \n",
       "24  [{'hora': 2025-09-02 15:16:24.994697+00:00, 'a...  \n",
       "25  [{'hora': 2025-09-02 15:16:25.526151+00:00, 'a...  \n",
       "26  [{'hora': 2025-09-02 15:16:26.584044+00:00, 'a...  \n",
       "27  [{'hora': 2025-09-02 15:16:27.236986+00:00, 'a...  \n",
       "28  [{'hora': 2025-09-02 15:16:27.900280+00:00, 'a...  \n",
       "29  [{'hora': 2025-09-02 15:16:28.482763+00:00, 'a...  \n",
       "30  [{'hora': 2025-09-02 15:16:29.037058+00:00, 'a...  \n",
       "31  [{'hora': 2025-09-02 15:16:29.640321+00:00, 'a...  \n",
       "32  [{'hora': 2025-09-02 15:16:30.201621+00:00, 'a...  \n",
       "33  [{'hora': 2025-09-02 15:16:30.966139+00:00, 'a...  \n",
       "34  [{'hora': 2025-09-02 15:16:31.554353+00:00, 'a...  \n",
       "35  [{'hora': 2025-09-02 15:16:32.166346+00:00, 'a...  "
      ]
     },
     "execution_count": 9,
     "metadata": {},
     "output_type": "execute_result"
    }
   ],
   "source": [
    "df_meta"
   ]
  },
  {
   "cell_type": "code",
   "execution_count": 10,
   "id": "de282b91-585e-4361-b72b-f9ac3d952256",
   "metadata": {},
   "outputs": [
    {
     "data": {
      "text/plain": [
       "Index(['estacion', 'codigo', 'descripcion', 'nombre_web', 'latitud',\n",
       "       'longitud', 'municipio', 'region', 'acum_6h', 'acum_24h', 'acum_72h',\n",
       "       'ultimo_dia_meteorologico', 'ultimos_7_dias_meteorologicos',\n",
       "       'ultimos_30_dias_meteorologicos', 'datos_recientes', 'dias_sin_datos',\n",
       "       'fecha_ultimo_dato', 'serie_120h'],\n",
       "      dtype='object')"
      ]
     },
     "execution_count": 10,
     "metadata": {},
     "output_type": "execute_result"
    }
   ],
   "source": [
    "df_meta.columns"
   ]
  },
  {
   "cell_type": "code",
   "execution_count": 11,
   "id": "9dc4de17-5d89-40b8-9ea2-c405677c3ff4",
   "metadata": {},
   "outputs": [],
   "source": [
    "df_meta.to_csv(\"metadatos_estaciones_precipitacion.csv\", index=False)"
   ]
  },
  {
   "cell_type": "code",
   "execution_count": 12,
   "id": "b4978ba1-5292-40f2-80f4-d5e604c767fe",
   "metadata": {},
   "outputs": [],
   "source": [
    "# Convertir a DataFrame para resumen (sin la serie de 120h)\n",
    "df_resultado = pd.DataFrame([{k: v for k, v in r.items() if k != \"serie_120h\"} for r in resultados])\n",
    "\n",
    "#print(df_resultado.head())"
   ]
  },
  {
   "cell_type": "code",
   "execution_count": 13,
   "id": "dc49d7fb-6131-403d-b7a7-85551395e53c",
   "metadata": {},
   "outputs": [],
   "source": [
    "# Ordenar por defecto: estaciones con datos recientes primero, y por fecha más reciente\n",
    "df_resultado = df_resultado.sort_values(by=[\"datos_recientes\", \"fecha_ultimo_dato\"], ascending=[False, False])"
   ]
  },
  {
   "cell_type": "code",
   "execution_count": 14,
   "id": "f58a8680-0508-4d25-a448-c77c0076d5b5",
   "metadata": {},
   "outputs": [],
   "source": [
    "# Crear copia con etiquetas legibles\n",
    "df_pie = df_resultado.copy()\n",
    "df_pie['datos_recientes'] = df_pie['datos_recientes'].map({1: 'Reciente', 0: 'No reciente'})"
   ]
  },
  {
   "cell_type": "code",
   "execution_count": 15,
   "id": "ebb6b1e2-ad48-4684-a46e-e9c5136a73ef",
   "metadata": {},
   "outputs": [],
   "source": [
    "# Registros con datos recientes (menos de 7 días sin datos)\n",
    "df_reciente = df_resultado[df_resultado[\"dias_sin_datos\"] < 7].copy()\n",
    "df_reciente = df_reciente.sort_values(by='estacion', ascending=True)\n",
    "\n",
    "\n",
    "# Registros sin datos recientes (7 días o más sin datos)\n",
    "df_no_reciente = df_resultado[df_resultado[\"dias_sin_datos\"] >= 7].copy()"
   ]
  },
  {
   "cell_type": "code",
   "execution_count": 16,
   "id": "f9f4f514-11dc-46c7-b842-c1595dfdac5d",
   "metadata": {},
   "outputs": [],
   "source": [
    "#print(f\"Con datos recientes: {len(df_reciente)} estaciones\")\n",
    "#print(f\"Sin datos recientes: {len(df_no_reciente)} estaciones\")\n"
   ]
  },
  {
   "cell_type": "markdown",
   "id": "1eb3473a-84d2-488e-8def-5552766e4ebd",
   "metadata": {},
   "source": [
    "### Cruce de Info API con datos de Municipio y Subregión"
   ]
  },
  {
   "cell_type": "code",
   "execution_count": 17,
   "id": "0eab6af6-1937-4459-be2d-9309f937fc74",
   "metadata": {},
   "outputs": [],
   "source": [
    "# Cargar el archivo Excel (Base de datos estaciones SAMA)\n",
    "df_excel = pd.read_excel('Base de datos estaciones SAMA.xlsx', usecols=[\n",
    "    'GRUPO', 'MUNICIPIO', 'NOM_EST', 'COD_EST', 'TIPO', 'COMUN_PRIORIZ', 'CORRIENTE', 'LAT', 'LONG'\n",
    "])\n",
    "\n",
    "# Reorganizar las columnas como se indicó\n",
    "df_excel = df_excel[['COD_EST', 'TIPO', 'GRUPO', 'MUNICIPIO', 'NOM_EST', 'COMUN_PRIORIZ', 'CORRIENTE', 'LAT', 'LONG']]\n",
    "\n",
    "# LIMPIAR columna COD_EST\n",
    "df_excel['COD_EST'] = df_excel['COD_EST'].astype(str).str.strip().str.lower()\n",
    "#df_excel"
   ]
  },
  {
   "cell_type": "markdown",
   "id": "bdc7146c-1984-4832-8ebb-fd23c4222641",
   "metadata": {},
   "source": [
    "### Correción de regiones erroneas"
   ]
  },
  {
   "cell_type": "code",
   "execution_count": 18,
   "id": "5a05bfb3-50fe-47e9-adcd-5b39fae4f6ea",
   "metadata": {},
   "outputs": [],
   "source": [
    "# Diccionario con los valores correctos\n",
    "correcciones = {\n",
    "    'sp_163': 8,\n",
    "    'sp_149': 3,\n",
    "    'sp_151': 6,\n",
    "    'sp_158': 6\n",
    "}\n",
    "\n",
    "# Aplicar las correcciones\n",
    "for codigo, region_correcta in correcciones.items():\n",
    "    df_meta.loc[df_meta['codigo'] == codigo, 'region'] = region_correcta\n"
   ]
  },
  {
   "cell_type": "code",
   "execution_count": 19,
   "id": "9f395d13-183e-426e-ade1-f231b7c45674",
   "metadata": {},
   "outputs": [],
   "source": [
    "# 1. Renombrar la columna 'municipio' en df_meta\n",
    "df_meta = df_meta.rename(columns={'municipio': 'municipio_num'})\n",
    "\n",
    "# 2. Crear un DataFrame auxiliar con solo las columnas necesarias de df_excel\n",
    "df_municipio = df_excel[['COD_EST', 'MUNICIPIO']].rename(columns={\n",
    "    'COD_EST': 'codigo',  # para que coincida con df_meta\n",
    "    'MUNICIPIO': 'municipio'\n",
    "})\n",
    "\n",
    "# 3. Hacer el merge con df_meta usando la columna común 'codigo'\n",
    "df_meta = df_meta.merge(df_municipio, on='codigo', how='left')\n",
    "\n",
    "df_meta['municipio'] = df_meta['municipio'].str.capitalize()"
   ]
  },
  {
   "cell_type": "code",
   "execution_count": 20,
   "id": "d0b9ef74-e331-405a-bec6-0cd9e38833de",
   "metadata": {},
   "outputs": [],
   "source": [
    "df_meta.loc[df_meta['codigo'] == 'sp_151', 'municipio'] = 'Sonson'"
   ]
  },
  {
   "cell_type": "code",
   "execution_count": 21,
   "id": "bf7a9370-5ec7-43f7-a77f-f000ee823b82",
   "metadata": {},
   "outputs": [],
   "source": [
    "#Renombrar la columna 'region' a 'subregion_num'\n",
    "df_meta = df_meta.rename(columns={'region': 'subregion_num'})\n",
    "\n",
    "# Diccionario de equivalencias de subregiones\n",
    "mapa_subregiones = {\n",
    "    1: 'Valle de Aburra',\n",
    "    2: 'Bajo Cauca',\n",
    "    3: 'Magdalena Medio',\n",
    "    4: 'Nordeste',\n",
    "    5: 'Norte',\n",
    "    6: 'Oriente',\n",
    "    7: 'Occidente',\n",
    "    8: 'Suroeste',\n",
    "    9: 'Urabá'\n",
    "}\n",
    "\n",
    "# Creación de la columna 'subregion' usando el diccionario\n",
    "df_meta['subregion'] = df_meta['subregion_num'].map(mapa_subregiones)\n"
   ]
  },
  {
   "cell_type": "code",
   "execution_count": 22,
   "id": "5d8c09e6-5079-4715-9a31-70d4a539102d",
   "metadata": {},
   "outputs": [],
   "source": [
    "#df_meta[df_meta['municipio'].isna()]"
   ]
  },
  {
   "cell_type": "code",
   "execution_count": 23,
   "id": "8841d47f-5498-40ac-8c25-b9c9dc6d3dc2",
   "metadata": {},
   "outputs": [],
   "source": [
    "#df_meta[df_meta['subregion'].isna()]"
   ]
  },
  {
   "cell_type": "markdown",
   "id": "77927677-5819-438d-8c15-66d180ae115d",
   "metadata": {},
   "source": [
    "## Para tablero"
   ]
  },
  {
   "cell_type": "code",
   "execution_count": 24,
   "id": "f92fb553",
   "metadata": {},
   "outputs": [
    {
     "name": "stdout",
     "output_type": "stream",
     "text": [
      "✅ Streamlit ya está disponible\n",
      "✅ pytz ya está disponible\n",
      "🎉 Todas las dependencias están listas!\n"
     ]
    }
   ],
   "source": [
    "# Instalar/reinstalar Streamlit en el kernel actual\n",
    "import subprocess\n",
    "import sys\n",
    "\n",
    "try:\n",
    "    import streamlit\n",
    "    print(\"✅ Streamlit ya está disponible\")\n",
    "except ImportError:\n",
    "    print(\"⚠️ Instalando Streamlit...\")\n",
    "    subprocess.check_call([sys.executable, \"-m\", \"pip\", \"install\", \"streamlit\"])\n",
    "    print(\"✅ Streamlit instalado exitosamente\")\n",
    "    \n",
    "try:\n",
    "    import pytz\n",
    "    print(\"✅ pytz ya está disponible\")\n",
    "except ImportError:\n",
    "    print(\"⚠️ Instalando pytz...\")\n",
    "    subprocess.check_call([sys.executable, \"-m\", \"pip\", \"install\", \"pytz\"])\n",
    "    print(\"✅ pytz instalado exitosamente\")\n",
    "\n",
    "print(\"🎉 Todas las dependencias están listas!\")"
   ]
  },
  {
   "cell_type": "code",
   "execution_count": 25,
   "id": "110e362a-4f54-4e97-a664-5e63a8736177",
   "metadata": {
    "scrolled": true
   },
   "outputs": [
    {
     "name": "stderr",
     "output_type": "stream",
     "text": [
      "2025-09-02 11:16:32.969 WARNING streamlit.runtime.scriptrunner_utils.script_run_context: Thread 'MainThread': missing ScriptRunContext! This warning can be ignored when running in bare mode.\n",
      "2025-09-02 11:16:32.969 WARNING streamlit.runtime.scriptrunner_utils.script_run_context: Thread 'MainThread': missing ScriptRunContext! This warning can be ignored when running in bare mode.\n",
      "2025-09-02 11:16:33.030 \n",
      "  \u001b[33m\u001b[1mWarning:\u001b[0m to view this Streamlit app on a browser, run it with the following\n",
      "  command:\n",
      "\n",
      "    streamlit run /Users/sergiocamilogarzonperez/Projects/sama/pronosticosnb/.venv/lib/python3.12/site-packages/ipykernel_launcher.py [ARGUMENTS]\n",
      "2025-09-02 11:16:33.030 Thread 'MainThread': missing ScriptRunContext! This warning can be ignored when running in bare mode.\n",
      "2025-09-02 11:16:33.031 Thread 'MainThread': missing ScriptRunContext! This warning can be ignored when running in bare mode.\n",
      "2025-09-02 11:16:33.031 Thread 'MainThread': missing ScriptRunContext! This warning can be ignored when running in bare mode.\n",
      "2025-09-02 11:16:33.031 Thread 'MainThread': missing ScriptRunContext! This warning can be ignored when running in bare mode.\n",
      "2025-09-02 11:16:33.031 Thread 'MainThread': missing ScriptRunContext! This warning can be ignored when running in bare mode.\n",
      "2025-09-02 11:16:33.031 Thread 'MainThread': missing ScriptRunContext! This warning can be ignored when running in bare mode.\n",
      "2025-09-02 11:16:33.032 Thread 'MainThread': missing ScriptRunContext! This warning can be ignored when running in bare mode.\n",
      "2025-09-02 11:16:33.032 Thread 'MainThread': missing ScriptRunContext! This warning can be ignored when running in bare mode.\n",
      "2025-09-02 11:16:33.032 Thread 'MainThread': missing ScriptRunContext! This warning can be ignored when running in bare mode.\n",
      "2025-09-02 11:16:33.032 Session state does not function when running a script without `streamlit run`\n",
      "2025-09-02 11:16:33.032 Thread 'MainThread': missing ScriptRunContext! This warning can be ignored when running in bare mode.\n",
      "2025-09-02 11:16:33.032 Thread 'MainThread': missing ScriptRunContext! This warning can be ignored when running in bare mode.\n",
      "2025-09-02 11:16:33.033 Thread 'MainThread': missing ScriptRunContext! This warning can be ignored when running in bare mode.\n",
      "2025-09-02 11:16:33.033 Thread 'MainThread': missing ScriptRunContext! This warning can be ignored when running in bare mode.\n",
      "2025-09-02 11:16:33.033 Thread 'MainThread': missing ScriptRunContext! This warning can be ignored when running in bare mode.\n",
      "2025-09-02 11:16:33.033 Thread 'MainThread': missing ScriptRunContext! This warning can be ignored when running in bare mode.\n",
      "2025-09-02 11:16:33.033 Thread 'MainThread': missing ScriptRunContext! This warning can be ignored when running in bare mode.\n",
      "2025-09-02 11:16:33.034 Thread 'MainThread': missing ScriptRunContext! This warning can be ignored when running in bare mode.\n",
      "2025-09-02 11:16:33.034 Thread 'MainThread': missing ScriptRunContext! This warning can be ignored when running in bare mode.\n",
      "2025-09-02 11:16:33.034 Thread 'MainThread': missing ScriptRunContext! This warning can be ignored when running in bare mode.\n",
      "2025-09-02 11:16:33.034 Thread 'MainThread': missing ScriptRunContext! This warning can be ignored when running in bare mode.\n",
      "2025-09-02 11:16:33.034 Thread 'MainThread': missing ScriptRunContext! This warning can be ignored when running in bare mode.\n",
      "2025-09-02 11:16:33.034 Thread 'MainThread': missing ScriptRunContext! This warning can be ignored when running in bare mode.\n",
      "2025-09-02 11:16:33.035 Thread 'MainThread': missing ScriptRunContext! This warning can be ignored when running in bare mode.\n",
      "2025-09-02 11:16:33.035 Thread 'MainThread': missing ScriptRunContext! This warning can be ignored when running in bare mode.\n",
      "2025-09-02 11:16:33.035 Thread 'MainThread': missing ScriptRunContext! This warning can be ignored when running in bare mode.\n",
      "2025-09-02 11:16:33.035 Thread 'MainThread': missing ScriptRunContext! This warning can be ignored when running in bare mode.\n",
      "2025-09-02 11:16:33.035 Thread 'MainThread': missing ScriptRunContext! This warning can be ignored when running in bare mode.\n",
      "2025-09-02 11:16:33.035 Thread 'MainThread': missing ScriptRunContext! This warning can be ignored when running in bare mode.\n",
      "2025-09-02 11:16:33.036 Thread 'MainThread': missing ScriptRunContext! This warning can be ignored when running in bare mode.\n",
      "2025-09-02 11:16:33.036 Thread 'MainThread': missing ScriptRunContext! This warning can be ignored when running in bare mode.\n",
      "2025-09-02 11:16:33.036 Thread 'MainThread': missing ScriptRunContext! This warning can be ignored when running in bare mode.\n",
      "2025-09-02 11:16:33.036 Thread 'MainThread': missing ScriptRunContext! This warning can be ignored when running in bare mode.\n",
      "2025-09-02 11:16:33.072 Thread 'MainThread': missing ScriptRunContext! This warning can be ignored when running in bare mode.\n",
      "2025-09-02 11:16:33.072 Thread 'MainThread': missing ScriptRunContext! This warning can be ignored when running in bare mode.\n",
      "2025-09-02 11:16:33.072 Thread 'MainThread': missing ScriptRunContext! This warning can be ignored when running in bare mode.\n",
      "2025-09-02 11:16:33.072 Thread 'MainThread': missing ScriptRunContext! This warning can be ignored when running in bare mode.\n",
      "2025-09-02 11:16:33.073 Thread 'MainThread': missing ScriptRunContext! This warning can be ignored when running in bare mode.\n",
      "2025-09-02 11:16:33.073 Thread 'MainThread': missing ScriptRunContext! This warning can be ignored when running in bare mode.\n",
      "2025-09-02 11:16:33.073 Thread 'MainThread': missing ScriptRunContext! This warning can be ignored when running in bare mode.\n",
      "2025-09-02 11:16:33.073 Thread 'MainThread': missing ScriptRunContext! This warning can be ignored when running in bare mode.\n",
      "2025-09-02 11:16:33.085 Thread 'MainThread': missing ScriptRunContext! This warning can be ignored when running in bare mode.\n",
      "2025-09-02 11:16:33.085 Thread 'MainThread': missing ScriptRunContext! This warning can be ignored when running in bare mode.\n",
      "2025-09-02 11:16:33.085 Thread 'MainThread': missing ScriptRunContext! This warning can be ignored when running in bare mode.\n",
      "2025-09-02 11:16:33.085 Thread 'MainThread': missing ScriptRunContext! This warning can be ignored when running in bare mode.\n",
      "2025-09-02 11:16:33.086 Thread 'MainThread': missing ScriptRunContext! This warning can be ignored when running in bare mode.\n",
      "2025-09-02 11:16:33.087 Thread 'MainThread': missing ScriptRunContext! This warning can be ignored when running in bare mode.\n",
      "2025-09-02 11:16:33.087 Thread 'MainThread': missing ScriptRunContext! This warning can be ignored when running in bare mode.\n",
      "2025-09-02 11:16:33.087 Thread 'MainThread': missing ScriptRunContext! This warning can be ignored when running in bare mode.\n",
      "2025-09-02 11:16:33.088 Thread 'MainThread': missing ScriptRunContext! This warning can be ignored when running in bare mode.\n",
      "2025-09-02 11:16:33.088 Thread 'MainThread': missing ScriptRunContext! This warning can be ignored when running in bare mode.\n",
      "2025-09-02 11:16:33.088 Thread 'MainThread': missing ScriptRunContext! This warning can be ignored when running in bare mode.\n",
      "2025-09-02 11:16:33.088 Please replace `use_container_width` with `width`.\n",
      "\n",
      "`use_container_width` will be removed after 2025-12-31.\n",
      "\n",
      "For `use_container_width=True`, use `width='stretch'`. For `use_container_width=False`, use `width='content'`.\n",
      "2025-09-02 11:16:33.091 Thread 'MainThread': missing ScriptRunContext! This warning can be ignored when running in bare mode.\n",
      "2025-09-02 11:16:33.092 Thread 'MainThread': missing ScriptRunContext! This warning can be ignored when running in bare mode.\n",
      "2025-09-02 11:16:33.092 Thread 'MainThread': missing ScriptRunContext! This warning can be ignored when running in bare mode.\n",
      "2025-09-02 11:16:33.092 Thread 'MainThread': missing ScriptRunContext! This warning can be ignored when running in bare mode.\n",
      "2025-09-02 11:16:33.092 Thread 'MainThread': missing ScriptRunContext! This warning can be ignored when running in bare mode.\n",
      "2025-09-02 11:16:33.093 Thread 'MainThread': missing ScriptRunContext! This warning can be ignored when running in bare mode.\n",
      "2025-09-02 11:16:33.093 Thread 'MainThread': missing ScriptRunContext! This warning can be ignored when running in bare mode.\n",
      "2025-09-02 11:16:33.093 Thread 'MainThread': missing ScriptRunContext! This warning can be ignored when running in bare mode.\n",
      "2025-09-02 11:16:33.093 Thread 'MainThread': missing ScriptRunContext! This warning can be ignored when running in bare mode.\n",
      "2025-09-02 11:16:33.093 Thread 'MainThread': missing ScriptRunContext! This warning can be ignored when running in bare mode.\n",
      "2025-09-02 11:16:33.093 Thread 'MainThread': missing ScriptRunContext! This warning can be ignored when running in bare mode.\n",
      "2025-09-02 11:16:33.093 Thread 'MainThread': missing ScriptRunContext! This warning can be ignored when running in bare mode.\n",
      "2025-09-02 11:16:33.093 Thread 'MainThread': missing ScriptRunContext! This warning can be ignored when running in bare mode.\n",
      "2025-09-02 11:16:33.094 Thread 'MainThread': missing ScriptRunContext! This warning can be ignored when running in bare mode.\n",
      "2025-09-02 11:16:33.094 Thread 'MainThread': missing ScriptRunContext! This warning can be ignored when running in bare mode.\n",
      "2025-09-02 11:16:33.094 Thread 'MainThread': missing ScriptRunContext! This warning can be ignored when running in bare mode.\n",
      "2025-09-02 11:16:33.094 Please replace `use_container_width` with `width`.\n",
      "\n",
      "`use_container_width` will be removed after 2025-12-31.\n",
      "\n",
      "For `use_container_width=True`, use `width='stretch'`. For `use_container_width=False`, use `width='content'`.\n",
      "2025-09-02 11:16:33.095 Thread 'MainThread': missing ScriptRunContext! This warning can be ignored when running in bare mode.\n",
      "2025-09-02 11:16:33.095 Thread 'MainThread': missing ScriptRunContext! This warning can be ignored when running in bare mode.\n",
      "2025-09-02 11:16:33.095 Thread 'MainThread': missing ScriptRunContext! This warning can be ignored when running in bare mode.\n",
      "2025-09-02 11:16:33.096 Thread 'MainThread': missing ScriptRunContext! This warning can be ignored when running in bare mode.\n",
      "2025-09-02 11:16:33.096 Thread 'MainThread': missing ScriptRunContext! This warning can be ignored when running in bare mode.\n",
      "2025-09-02 11:16:33.096 Thread 'MainThread': missing ScriptRunContext! This warning can be ignored when running in bare mode.\n",
      "2025-09-02 11:16:33.096 Thread 'MainThread': missing ScriptRunContext! This warning can be ignored when running in bare mode.\n",
      "2025-09-02 11:16:33.097 Thread 'MainThread': missing ScriptRunContext! This warning can be ignored when running in bare mode.\n",
      "2025-09-02 11:16:33.097 Thread 'MainThread': missing ScriptRunContext! This warning can be ignored when running in bare mode.\n",
      "2025-09-02 11:16:33.097 Thread 'MainThread': missing ScriptRunContext! This warning can be ignored when running in bare mode.\n",
      "2025-09-02 11:16:33.098 Thread 'MainThread': missing ScriptRunContext! This warning can be ignored when running in bare mode.\n",
      "2025-09-02 11:16:33.098 Thread 'MainThread': missing ScriptRunContext! This warning can be ignored when running in bare mode.\n",
      "2025-09-02 11:16:33.098 Thread 'MainThread': missing ScriptRunContext! This warning can be ignored when running in bare mode.\n",
      "2025-09-02 11:16:33.110 Thread 'MainThread': missing ScriptRunContext! This warning can be ignored when running in bare mode.\n",
      "2025-09-02 11:16:33.111 Thread 'MainThread': missing ScriptRunContext! This warning can be ignored when running in bare mode.\n",
      "2025-09-02 11:16:33.111 Thread 'MainThread': missing ScriptRunContext! This warning can be ignored when running in bare mode.\n",
      "2025-09-02 11:16:33.111 Thread 'MainThread': missing ScriptRunContext! This warning can be ignored when running in bare mode.\n",
      "2025-09-02 11:16:33.111 Thread 'MainThread': missing ScriptRunContext! This warning can be ignored when running in bare mode.\n",
      "2025-09-02 11:16:33.112 Thread 'MainThread': missing ScriptRunContext! This warning can be ignored when running in bare mode.\n",
      "2025-09-02 11:16:33.112 Thread 'MainThread': missing ScriptRunContext! This warning can be ignored when running in bare mode.\n",
      "2025-09-02 11:16:33.112 Thread 'MainThread': missing ScriptRunContext! This warning can be ignored when running in bare mode.\n",
      "2025-09-02 11:16:33.120 Thread 'MainThread': missing ScriptRunContext! This warning can be ignored when running in bare mode.\n",
      "2025-09-02 11:16:33.120 Thread 'MainThread': missing ScriptRunContext! This warning can be ignored when running in bare mode.\n",
      "2025-09-02 11:16:33.120 Thread 'MainThread': missing ScriptRunContext! This warning can be ignored when running in bare mode.\n",
      "2025-09-02 11:16:33.120 Thread 'MainThread': missing ScriptRunContext! This warning can be ignored when running in bare mode.\n",
      "2025-09-02 11:16:33.120 Thread 'MainThread': missing ScriptRunContext! This warning can be ignored when running in bare mode.\n",
      "2025-09-02 11:16:33.121 Thread 'MainThread': missing ScriptRunContext! This warning can be ignored when running in bare mode.\n",
      "2025-09-02 11:16:33.121 Thread 'MainThread': missing ScriptRunContext! This warning can be ignored when running in bare mode.\n",
      "2025-09-02 11:16:33.121 Thread 'MainThread': missing ScriptRunContext! This warning can be ignored when running in bare mode.\n",
      "2025-09-02 11:16:33.123 Thread 'MainThread': missing ScriptRunContext! This warning can be ignored when running in bare mode.\n",
      "2025-09-02 11:16:33.123 Thread 'MainThread': missing ScriptRunContext! This warning can be ignored when running in bare mode.\n",
      "2025-09-02 11:16:33.124 Thread 'MainThread': missing ScriptRunContext! This warning can be ignored when running in bare mode.\n",
      "2025-09-02 11:16:33.124 Thread 'MainThread': missing ScriptRunContext! This warning can be ignored when running in bare mode.\n",
      "2025-09-02 11:16:33.124 Thread 'MainThread': missing ScriptRunContext! This warning can be ignored when running in bare mode.\n"
     ]
    },
    {
     "data": {
      "text/plain": [
       "DeltaGenerator()"
      ]
     },
     "execution_count": 25,
     "metadata": {},
     "output_type": "execute_result"
    }
   ],
   "source": [
    "import streamlit as st\n",
    "import plotly.express as px\n",
    "import plotly.graph_objects as go\n",
    "import pandas as pd\n",
    "from datetime import datetime, timedelta\n",
    "\n",
    "# Configuración de la página\n",
    "st.set_page_config(\n",
    "    page_title=\"🌧️ Tablero de estaciones de precipitación\",\n",
    "    page_icon=\"🌧️\",\n",
    "    layout=\"wide\"\n",
    ")\n",
    "\n",
    "st.title(\"🌧️ Tablero de estaciones de precipitación\")\n",
    "\n",
    "# Sidebar con filtros\n",
    "st.sidebar.header(\"Filtros\")\n",
    "\n",
    "# Filtro por subregión\n",
    "subregiones = sorted(df_meta[\"subregion\"].unique())\n",
    "subregion_seleccionada = st.sidebar.selectbox(\n",
    "    \"Filtrar por subregión:\",\n",
    "    options=[\"Todas\"] + subregiones,\n",
    "    index=0\n",
    ")\n",
    "\n",
    "# Filtro por municipio (dinámico basado en subregión)\n",
    "if subregion_seleccionada != \"Todas\":\n",
    "    municipios = sorted(df_meta[df_meta[\"subregion\"] == subregion_seleccionada][\"municipio\"].dropna().unique())\n",
    "else:\n",
    "    municipios = sorted(df_meta[\"municipio\"].dropna().unique())\n",
    "\n",
    "municipio_seleccionado = st.sidebar.selectbox(\n",
    "    \"Filtrar por municipio:\",\n",
    "    options=[\"Todos\"] + municipios,\n",
    "    index=0\n",
    ")\n",
    "\n",
    "# Filtro de estaciones (dinámico basado en filtros anteriores)\n",
    "df_filtrado = df_meta.copy()\n",
    "if subregion_seleccionada != \"Todas\":\n",
    "    df_filtrado = df_filtrado[df_filtrado[\"subregion\"] == subregion_seleccionada]\n",
    "if municipio_seleccionado != \"Todos\":\n",
    "    df_filtrado = df_filtrado[df_filtrado[\"municipio\"] == municipio_seleccionado]\n",
    "\n",
    "estaciones = sorted(df_filtrado[\"estacion\"].unique())\n",
    "estacion_seleccionada = st.sidebar.selectbox(\n",
    "    \"Selecciona estación:\",\n",
    "    options=[f\"sp_{e}\" for e in estaciones],\n",
    "    index=0 if estaciones else None\n",
    ")\n",
    "\n",
    "# Crear columnas para el layout\n",
    "col1, col2 = st.columns(2)\n",
    "\n",
    "# Serie de tiempo de 120 horas\n",
    "with col1:\n",
    "    st.subheader(\"Serie de tiempo 120h\")\n",
    "    if estacion_seleccionada:\n",
    "        estacion_id = estacion_seleccionada.replace(\"sp_\", \"\")\n",
    "        serie = next((r[\"serie_120h\"] for r in resultados if r[\"estacion\"] == estacion_id), [])\n",
    "        if serie:\n",
    "            df_serie = pd.DataFrame(serie)\n",
    "            fig_serie = px.line(df_serie, x=\"hora\", y=\"acumulado\", \n",
    "                              title=f\"Serie 120h - {estacion_seleccionada}\")\n",
    "            fig_serie.update_layout(xaxis_title=\"Hora\", yaxis_title=\"Acumulado (mm)\")\n",
    "            st.plotly_chart(fig_serie, use_container_width=True)\n",
    "        else:\n",
    "            st.info(\"No hay datos disponibles para esta estación\")\n",
    "\n",
    "# Mapa de ubicación\n",
    "with col2:\n",
    "    st.subheader(\"📍 Ubicación de la estación\")\n",
    "    if estacion_seleccionada:\n",
    "        estacion_id = estacion_seleccionada.replace(\"sp_\", \"\")\n",
    "        fila = df_meta[df_meta[\"estacion\"] == estacion_id]\n",
    "        if not fila.empty:\n",
    "            fig_map = px.scatter_map(\n",
    "                fila,\n",
    "                lat=\"latitud\",\n",
    "                lon=\"longitud\",\n",
    "                hover_name=\"estacion\",\n",
    "                hover_data=[\"municipio\", \"subregion\"],\n",
    "                color_discrete_sequence=[\"red\"],\n",
    "                zoom=10,\n",
    "                height=400\n",
    "            )\n",
    "            fig_map.update_layout(\n",
    "                mapbox_style=\"carto-positron\",\n",
    "                margin={\"r\": 0, \"t\": 0, \"l\": 0, \"b\": 0},\n",
    "                showlegend=False\n",
    "            )\n",
    "            st.plotly_chart(fig_map, use_container_width=True)\n",
    "        else:\n",
    "            st.info(\"Ubicación no disponible\")\n",
    "\n",
    "# Preparar datos para las tablas con filtros aplicados\n",
    "df_tabla = df_reciente.merge(df_meta[[\"estacion\", \"subregion\", \"municipio\"]], on=\"estacion\", how=\"left\")\n",
    "if subregion_seleccionada != \"Todas\":\n",
    "    df_tabla = df_tabla[df_tabla[\"subregion\"] == subregion_seleccionada]\n",
    "if municipio_seleccionado != \"Todos\":\n",
    "    df_tabla = df_tabla[df_tabla[\"municipio\"] == municipio_seleccionado]\n",
    "\n",
    "# Tabla de acumulados recientes\n",
    "st.subheader(\"Acumulados recientes por estación\")\n",
    "if not df_tabla.empty:\n",
    "    df_acumulados = df_tabla[[\"estacion\", \"acum_6h\", \"acum_24h\", \"acum_72h\"]].copy()\n",
    "    df_acumulados[\"estacion\"] = df_acumulados[\"estacion\"].apply(lambda x: f\"sp_{x}\")\n",
    "    df_acumulados = df_acumulados.round(3)\n",
    "    \n",
    "    col1, col2 = st.columns([3, 1])\n",
    "    with col1:\n",
    "        st.dataframe(df_acumulados, use_container_width=True)\n",
    "    with col2:\n",
    "        csv_acumulados = df_acumulados.to_csv(index=False)\n",
    "        st.download_button(\n",
    "            label=\"Descargar CSV\",\n",
    "            data=csv_acumulados,\n",
    "            file_name=\"acumulados_estaciones.csv\",\n",
    "            mime=\"text/csv\"\n",
    "        )\n",
    "\n",
    "# Tabla de acumulados meteorológicos\n",
    "st.subheader(\"Acumulados meteorológicos por estación\")\n",
    "if not df_tabla.empty:\n",
    "    df_meteo = df_tabla[[\"estacion\", \"ultimo_dia_meteorologico\", \"ultimos_7_dias_meteorologicos\", \"ultimos_30_dias_meteorologicos\"]].copy()\n",
    "    df_meteo[\"estacion\"] = df_meteo[\"estacion\"].apply(lambda x: f\"sp_{x}\")\n",
    "    df_meteo = df_meteo.round(3)\n",
    "    \n",
    "    col1, col2 = st.columns([3, 1])\n",
    "    with col1:\n",
    "        st.dataframe(df_meteo, use_container_width=True)\n",
    "    with col2:\n",
    "        csv_meteo = df_meteo.to_csv(index=False)\n",
    "        st.download_button(\n",
    "            label=\"Descargar CSV\",\n",
    "            data=csv_meteo,\n",
    "            file_name=\"acumulados_meteorologicos.csv\",\n",
    "            mime=\"text/csv\"\n",
    "        )\n",
    "\n",
    "# Gráfico de acumulados meteorológicos del último día\n",
    "st.subheader(\"Acumulado meteorológico del último día por estación\")\n",
    "if not df_tabla.empty:\n",
    "    df_grafico = df_tabla.copy()\n",
    "    df_grafico[\"estacion\"] = df_grafico[\"estacion\"].apply(lambda x: f\"sp_{x}\")\n",
    "    \n",
    "    fig_meteo = px.bar(\n",
    "        df_grafico,\n",
    "        x=\"estacion\",\n",
    "        y=\"ultimo_dia_meteorologico\",\n",
    "        title=\"Acumulado del último día meteorológico\"\n",
    "    )\n",
    "    fig_meteo.update_layout(\n",
    "        xaxis_title=\"Estación\",\n",
    "        yaxis_title=\"Acumulado (mm)\",\n",
    "        showlegend=False,\n",
    "        xaxis_tickangle=45\n",
    "    )\n",
    "    st.plotly_chart(fig_meteo, use_container_width=True)\n",
    "\n",
    "# Gráfico de estaciones sin datos\n",
    "st.subheader(\"Estaciones sin datos por más de 7 días\")\n",
    "if not df_no_reciente.empty:\n",
    "    df_sin_datos = df_no_reciente.copy()\n",
    "    df_sin_datos[\"estacion\"] = df_sin_datos[\"estacion\"].apply(lambda x: f\"sp_{x}\")\n",
    "    df_sin_datos = df_sin_datos.sort_values(\"dias_sin_datos\", ascending=False)\n",
    "    \n",
    "    fig_sin_datos = px.bar(\n",
    "        df_sin_datos,\n",
    "        x=\"estacion\", \n",
    "        y=\"dias_sin_datos\",\n",
    "        title=\"Días sin datos por estación\"\n",
    "    )\n",
    "    fig_sin_datos.update_layout(xaxis_tickangle=45)\n",
    "    st.plotly_chart(fig_sin_datos, use_container_width=True)\n",
    "\n",
    "# Gráfico de disponibilidad de datos\n",
    "st.subheader(\"Disponibilidad de datos recientes\")\n",
    "df_pie_chart = df_pie['datos_recientes'].value_counts()\n",
    "total_estaciones = len(df_pie)\n",
    "\n",
    "porcentajes = []\n",
    "labels = []\n",
    "values = []\n",
    "\n",
    "for label in df_pie_chart.index:\n",
    "    count = df_pie_chart[label]\n",
    "    percentage = (count / total_estaciones) * 100\n",
    "    porcentajes.append(f\"{percentage:.1f}% ({count})\")\n",
    "    labels.append(label)\n",
    "    values.append(count)\n",
    "\n",
    "fig_disponibilidad = go.Figure(data=[\n",
    "    go.Bar(\n",
    "        x=labels,\n",
    "        y=[(v/total_estaciones)*100 for v in values],\n",
    "        text=porcentajes,\n",
    "        textposition='inside',\n",
    "        marker_color=['lightcoral' if 'No' in label else 'lightblue' for label in labels]\n",
    "    )\n",
    "])\n",
    "\n",
    "fig_disponibilidad.update_layout(\n",
    "    title=\"Porcentaje de estaciones con/sin datos recientes\",\n",
    "    xaxis_title=\"Estado de los datos\",\n",
    "    yaxis_title=\"Porcentaje (%)\",\n",
    "    yaxis=dict(range=[0, 100]),\n",
    "    height=400\n",
    ")\n",
    "\n",
    "st.plotly_chart(fig_disponibilidad, use_container_width=True)"
   ]
  },
  {
   "cell_type": "markdown",
   "id": "deebcae6",
   "metadata": {},
   "source": [
    "## 📊 Visualizaciones para el Notebook (sin Streamlit)\n",
    "\n",
    "Las siguientes celdas muestran las gráficas usando solo Plotly, que funciona perfectamente en Jupyter:"
   ]
  },
  {
   "cell_type": "code",
   "execution_count": 26,
   "id": "6beb332f",
   "metadata": {},
   "outputs": [
    {
     "name": "stdout",
     "output_type": "stream",
     "text": [
      "📊 Total de estaciones procesadas: 36\n",
      "✅ Estaciones con datos recientes: 34\n",
      "⚠️ Estaciones sin datos recientes: 2\n",
      "\n",
      "📊 Hay 2 estaciones sin datos recientes:\n",
      "  - sp_147: 298 días sin datos\n",
      "  - sp_108: 11 días sin datos\n"
     ]
    }
   ],
   "source": [
    "# Gráficas que SÍ funcionan en el notebook (solo Plotly)\n",
    "import plotly.express as px\n",
    "import plotly.graph_objects as go\n",
    "from plotly.subplots import make_subplots\n",
    "\n",
    "print(f\"📊 Total de estaciones procesadas: {len(df_meta)}\")\n",
    "print(f\"✅ Estaciones con datos recientes: {len(df_reciente)}\")\n",
    "print(f\"⚠️ Estaciones sin datos recientes: {len(df_no_reciente)}\")\n",
    "\n",
    "# 1. Gráfico de disponibilidad de datos\n",
    "df_pie_chart = df_pie['datos_recientes'].value_counts()\n",
    "total_estaciones = len(df_pie)\n",
    "\n",
    "fig_disponibilidad = px.pie(\n",
    "    values=df_pie_chart.values, \n",
    "    names=df_pie_chart.index,\n",
    "    title=\"Disponibilidad de datos recientes por estación\",\n",
    "    color_discrete_map={'Reciente': 'lightblue', 'No reciente': 'lightcoral'}\n",
    ")\n",
    "\n",
    "# Mostrar la gráfica\n",
    "fig_disponibilidad\n",
    "\n",
    "# 2. Gráfico de estaciones sin datos (si hay alguna)\n",
    "if not df_no_reciente.empty:\n",
    "    df_sin_datos = df_no_reciente.copy()\n",
    "    df_sin_datos[\"estacion\"] = df_sin_datos[\"estacion\"].apply(lambda x: f\"sp_{x}\")\n",
    "    df_sin_datos = df_sin_datos.sort_values(\"dias_sin_datos\", ascending=False)\n",
    "    \n",
    "    fig_sin_datos = px.bar(\n",
    "        df_sin_datos,\n",
    "        x=\"estacion\", \n",
    "        y=\"dias_sin_datos\",\n",
    "        title=\"Estaciones sin datos por más de 7 días\",\n",
    "        labels={'dias_sin_datos': 'Días sin datos', 'estacion': 'Estación'}\n",
    "    )\n",
    "    fig_sin_datos.update_layout(xaxis_tickangle=45)\n",
    "    \n",
    "    print(f\"\\n📊 Hay {len(df_sin_datos)} estaciones sin datos recientes:\")\n",
    "    for _, row in df_sin_datos.iterrows():\n",
    "        print(f\"  - {row['estacion']}: {row['dias_sin_datos']} días sin datos\")\n",
    "else:\n",
    "    print(\"🎉 ¡Todas las estaciones tienen datos recientes!\")"
   ]
  },
  {
   "cell_type": "code",
   "execution_count": 27,
   "id": "983b1508",
   "metadata": {},
   "outputs": [
    {
     "name": "stdout",
     "output_type": "stream",
     "text": [
      "📊 RESUMEN DE ESTACIONES DE PRECIPITACIÓN\n",
      "==================================================\n",
      "📍 Total de estaciones: 36\n",
      "✅ Con datos recientes: 34\n",
      "⚠️ Sin datos recientes: 2\n",
      "📈 Porcentaje operativo: 94.4%\n",
      "\n",
      "🏙️ DISTRIBUCIÓN POR SUBREGIÓN:\n",
      "  - Suroeste: 10 estaciones\n",
      "  - Occidente: 6 estaciones\n",
      "  - Urabá: 5 estaciones\n",
      "  - Nordeste: 4 estaciones\n",
      "  - Bajo Cauca: 3 estaciones\n",
      "  - Magdalena Medio: 3 estaciones\n",
      "  - Norte: 2 estaciones\n",
      "  - Oriente: 2 estaciones\n",
      "  - Valle de Aburra: 1 estaciones\n",
      "\n",
      "💧 TOP 10 ESTACIONES - ÚLTIMO DÍA METEOROLÓGICO:\n",
      "  - sp_140: 60.20 mm\n",
      "  - sp_133: 57.91 mm\n",
      "  - sp_109: 54.36 mm\n",
      "  - sp_134: 48.26 mm\n",
      "  - sp_103: 44.45 mm\n",
      "  - sp_143: 42.67 mm\n",
      "  - sp_142: 34.04 mm\n",
      "  - sp_101: 31.24 mm\n",
      "  - sp_150: 30.23 mm\n",
      "  - sp_141: 29.46 mm\n",
      "\n",
      "⏰ ACUMULADOS PROMEDIO:\n",
      "  - 6 horas: 0.00 mm\n",
      "  - 24 horas: 14.91 mm\n",
      "  - 72 horas: 23.11 mm\n",
      "\n",
      "❌ ESTACIONES PROBLEMÁTICAS:\n",
      "  - sp_108: 11 días sin datos\n",
      "  - sp_147: 298 días sin datos\n",
      "\n",
      "📄 Archivo CSV generado: metadatos_estaciones_precipitacion.csv\n",
      "🌐 Aplicación Streamlit: streamlit_app.py\n",
      "⚡ Para gráficas interactivas, ejecuta: streamlit run streamlit_app.py\n"
     ]
    }
   ],
   "source": [
    "# Simplificado: Análisis de datos sin gráficas complejas\n",
    "\n",
    "print(\"📊 RESUMEN DE ESTACIONES DE PRECIPITACIÓN\")\n",
    "print(\"=\" * 50)\n",
    "\n",
    "# Análisis básico\n",
    "print(f\"📍 Total de estaciones: {len(df_meta)}\")\n",
    "print(f\"✅ Con datos recientes: {len(df_reciente)}\")\n",
    "print(f\"⚠️ Sin datos recientes: {len(df_no_reciente)}\")\n",
    "print(f\"📈 Porcentaje operativo: {(len(df_reciente)/len(df_meta)*100):.1f}%\")\n",
    "\n",
    "print(\"\\n🏙️ DISTRIBUCIÓN POR SUBREGIÓN:\")\n",
    "subregion_count = df_meta['subregion'].value_counts()\n",
    "for subregion, count in subregion_count.items():\n",
    "    print(f\"  - {subregion}: {count} estaciones\")\n",
    "\n",
    "print(\"\\n💧 TOP 10 ESTACIONES - ÚLTIMO DÍA METEOROLÓGICO:\")\n",
    "top_acum = df_reciente.nlargest(10, 'ultimo_dia_meteorologico')[['estacion', 'ultimo_dia_meteorologico']]\n",
    "for _, row in top_acum.iterrows():\n",
    "    print(f\"  - sp_{row['estacion']}: {row['ultimo_dia_meteorologico']:.2f} mm\")\n",
    "\n",
    "print(\"\\n⏰ ACUMULADOS PROMEDIO:\")\n",
    "print(f\"  - 6 horas: {df_reciente['acum_6h'].mean():.2f} mm\")\n",
    "print(f\"  - 24 horas: {df_reciente['acum_24h'].mean():.2f} mm\") \n",
    "print(f\"  - 72 horas: {df_reciente['acum_72h'].mean():.2f} mm\")\n",
    "\n",
    "if not df_no_reciente.empty:\n",
    "    print(f\"\\n❌ ESTACIONES PROBLEMÁTICAS:\")\n",
    "    for _, row in df_no_reciente.iterrows():\n",
    "        print(f\"  - sp_{row['estacion']}: {row['dias_sin_datos']} días sin datos\")\n",
    "\n",
    "print(f\"\\n📄 Archivo CSV generado: metadatos_estaciones_precipitacion.csv\")\n",
    "print(f\"🌐 Aplicación Streamlit: streamlit_app.py\")\n",
    "print(f\"⚡ Para gráficas interactivas, ejecuta: streamlit run streamlit_app.py\")"
   ]
  },
  {
   "cell_type": "code",
   "execution_count": 28,
   "id": "23a34a15",
   "metadata": {},
   "outputs": [
    {
     "data": {
      "application/vnd.plotly.v1+json": {
       "config": {
        "plotlyServerURL": "https://plot.ly"
       },
       "data": [
        {
         "customdata": [
          [
           "Betulia",
           "Suroeste"
          ],
          [
           "Salgar",
           "Suroeste"
          ],
          [
           "Andes",
           "Suroeste"
          ],
          [
           "Urrao",
           "Suroeste"
          ],
          [
           "Urrao",
           "Suroeste"
          ],
          [
           "Urrao",
           "Suroeste"
          ],
          [
           "Betania",
           "Suroeste"
          ],
          [
           "Venecia",
           "Suroeste"
          ],
          [
           "Ciudad bolívar",
           "Suroeste"
          ],
          [
           "La pintada",
           "Suroeste"
          ]
         ],
         "hovertemplate": "<b>%{hovertext}</b><br><br>subregion=%{customdata[1]}<br>latitud=%{lat}<br>longitud=%{lon}<br>municipio=%{customdata[0]}<extra></extra>",
         "hovertext": [
          "101",
          "103",
          "131",
          "141",
          "142",
          "143",
          "144",
          "159",
          "162",
          "163"
         ],
         "lat": {
          "bdata": "bEPFOH9zGEDVWwNbJfgXQA/uztptlxZAYcPTK2W5GEB6/N6mP5sYQNXKhF/qBxlA+5EiMqzCFkCfPCzUmsYXQNU+HY8ZaBdA5dlAFZL3FkA=",
          "dtype": "f8"
         },
         "legendgroup": "Suroeste",
         "lon": {
          "bdata": "7xtfe2b/UsCJKZFELwNTwCYeUDbl/FLAgc8PI4QJU8BZaVIKugNTwG4Xmus0CFPAsoAJ3Lr/UsAEkNrEye1SwFfPSe8bA1PAcTlegejmUsA=",
          "dtype": "f8"
         },
         "marker": {
          "color": "#000001"
         },
         "mode": "markers",
         "name": "Suroeste",
         "showlegend": true,
         "subplot": "map",
         "type": "scattermap"
        },
        {
         "customdata": [
          [
           "Cáceres",
           "Bajo Cauca"
          ],
          [
           "Zaragoza",
           "Bajo Cauca"
          ],
          [
           "El bagre",
           "Bajo Cauca"
          ]
         ],
         "hovertemplate": "<b>%{hovertext}</b><br><br>subregion=%{customdata[1]}<br>latitud=%{lat}<br>longitud=%{lon}<br>municipio=%{customdata[0]}<extra></extra>",
         "hovertext": [
          "102",
          "108",
          "150"
         ],
         "lat": {
          "bdata": "UkmdgCYCH0Ak0csolrsdQMpPqn06vh1A",
          "dtype": "f8"
         },
         "legendgroup": "Bajo Cauca",
         "lon": {
          "bdata": "3LqbpzrQUsAF3V7SGLdSwFnd6jnpq1LA",
          "dtype": "f8"
         },
         "marker": {
          "color": "#000002"
         },
         "mode": "markers",
         "name": "Bajo Cauca",
         "showlegend": true,
         "subplot": "map",
         "type": "scattermap"
        },
        {
         "customdata": [
          [
           "San andrés de cuerquía",
           "Norte"
          ],
          [
           "Briceño",
           "Norte"
          ]
         ],
         "hovertemplate": "<b>%{hovertext}</b><br><br>subregion=%{customdata[1]}<br>latitud=%{lat}<br>longitud=%{lon}<br>municipio=%{customdata[0]}<extra></extra>",
         "hovertext": [
          "104",
          "161"
         ],
         "lat": {
          "bdata": "jGfQ0D+hG0CnA1lPrW4cQA==",
          "dtype": "f8"
         },
         "legendgroup": "Norte",
         "lon": {
          "bdata": "EOm3rwPrUsC4PUFiu+NSwA==",
          "dtype": "f8"
         },
         "marker": {
          "color": "#000003"
         },
         "mode": "markers",
         "name": "Norte",
         "showlegend": true,
         "subplot": "map",
         "type": "scattermap"
        },
        {
         "customdata": [
          [
           "Sonsón",
           "Occidente"
          ],
          [
           "San carlos",
           "Occidente"
          ],
          [
           "San carlos",
           "Occidente"
          ],
          [
           "Marinilla",
           "Occidente"
          ],
          [
           "La ceja",
           "Occidente"
          ],
          [
           "Liborina",
           "Occidente"
          ]
         ],
         "hovertemplate": "<b>%{hovertext}</b><br><br>subregion=%{customdata[1]}<br>latitud=%{lat}<br>longitud=%{lon}<br>municipio=%{customdata[0]}<extra></extra>",
         "hovertext": [
          "106",
          "135",
          "136",
          "146",
          "155",
          "156"
         ],
         "lat": {
          "bdata": "kst/SL/dFkBkWMUbmccYQKJdhZSftBhAfT81XrppGEAhsHJokQ0YQK2jqgmiDhtA",
          "dtype": "f8"
         },
         "legendgroup": "Occidente",
         "lon": {
          "bdata": "63O1FfuzUsCvsUtUb79SwI/C9Shcv1LAyCQjZ2HPUsD+YOC599xSwG5pNSTu71LA",
          "dtype": "f8"
         },
         "marker": {
          "color": "#000004"
         },
         "mode": "markers",
         "name": "Occidente",
         "showlegend": true,
         "subplot": "map",
         "type": "scattermap"
        },
        {
         "customdata": [
          [
           "Mutatá",
           "Urabá"
          ],
          [
           "Arboletes",
           "Urabá"
          ],
          [
           "San juan de urabá",
           "Urabá"
          ],
          [
           "San pedro de urabá",
           "Urabá"
          ],
          [
           "Murindó",
           "Urabá"
          ]
         ],
         "hovertemplate": "<b>%{hovertext}</b><br><br>subregion=%{customdata[1]}<br>latitud=%{lat}<br>longitud=%{lon}<br>municipio=%{customdata[0]}<extra></extra>",
         "hovertext": [
          "109",
          "132",
          "138",
          "139",
          "147"
         ],
         "lat": {
          "bdata": "VwT/W8kuHUBeY5eo3johQBfZzvdTYyFAc/T4vU2PIEA84BUcuekbQA==",
          "dtype": "f8"
         },
         "legendgroup": "Urabá",
         "lon": {
          "bdata": "aTo7GRwhU8AVkWEVbxhTwEGC4seYH1PAe0ljtI4YU8AXw4t0dTRTwA==",
          "dtype": "f8"
         },
         "marker": {
          "color": "#000005"
         },
         "mode": "markers",
         "name": "Urabá",
         "showlegend": true,
         "subplot": "map",
         "type": "scattermap"
        },
        {
         "customdata": [
          [
           "Cisneros",
           "Nordeste"
          ],
          [
           "Cisneros",
           "Nordeste"
          ],
          [
           "Santo domingo",
           "Nordeste"
          ],
          [
           "Remedios",
           "Nordeste"
          ]
         ],
         "hovertemplate": "<b>%{hovertext}</b><br><br>subregion=%{customdata[1]}<br>latitud=%{lat}<br>longitud=%{lon}<br>municipio=%{customdata[0]}<extra></extra>",
         "hovertext": [
          "133",
          "134",
          "140",
          "154"
         ],
         "lat": {
          "bdata": "W9O84xQ9GkATDyibciUaQD0K16Nw/RlAdlPKayUEHEA=",
          "dtype": "f8"
         },
         "legendgroup": "Nordeste",
         "lon": {
          "bdata": "PwCpTZzGUsBLH7qgvsdSwJ7Swfo/x1LAjndHxmqQUsA=",
          "dtype": "f8"
         },
         "marker": {
          "color": "#000006"
         },
         "mode": "markers",
         "name": "Nordeste",
         "showlegend": true,
         "subplot": "map",
         "type": "scattermap"
        },
        {
         "customdata": [
          [
           "Caracolí",
           "Magdalena Medio"
          ],
          [
           "Caracolí",
           "Magdalena Medio"
          ],
          [
           "Puerto berrío",
           "Magdalena Medio"
          ]
         ],
         "hovertemplate": "<b>%{hovertext}</b><br><br>subregion=%{customdata[1]}<br>latitud=%{lat}<br>longitud=%{lon}<br>municipio=%{customdata[0]}<extra></extra>",
         "hovertext": [
          "145",
          "149",
          "160"
         ],
         "lat": {
          "bdata": "Sgfr/xymGUB8REyJJJoZQLvs153uzBlA",
          "dtype": "f8"
         },
         "legendgroup": "Magdalena Medio",
         "lon": {
          "bdata": "P1JEhlWwUsD+JhQi4LBSwBzr4jYaoFLA",
          "dtype": "f8"
         },
         "marker": {
          "color": "#000007"
         },
         "mode": "markers",
         "name": "Magdalena Medio",
         "showlegend": true,
         "subplot": "map",
         "type": "scattermap"
        },
        {
         "customdata": [
          [
           "Sonson",
           "Oriente"
          ],
          [
           "Llanogrande",
           "Oriente"
          ]
         ],
         "hovertemplate": "<b>%{hovertext}</b><br><br>subregion=%{customdata[1]}<br>latitud=%{lat}<br>longitud=%{lon}<br>municipio=%{customdata[0]}<extra></extra>",
         "hovertext": [
          "151",
          "158"
         ],
         "lat": {
          "bdata": "9dvXgXOGF0AWTz3S4IYYQA==",
          "dtype": "f8"
         },
         "legendgroup": "Oriente",
         "lon": {
          "bdata": "TyMtlbezUsDNj7+0qNlSwA==",
          "dtype": "f8"
         },
         "marker": {
          "color": "#000008"
         },
         "mode": "markers",
         "name": "Oriente",
         "showlegend": true,
         "subplot": "map",
         "type": "scattermap"
        },
        {
         "customdata": [
          [
           "Santo domingo - bello",
           "Valle de Aburra"
          ]
         ],
         "hovertemplate": "<b>%{hovertext}</b><br><br>subregion=%{customdata[1]}<br>latitud=%{lat}<br>longitud=%{lon}<br>municipio=%{customdata[0]}<extra></extra>",
         "hovertext": [
          "157"
         ],
         "lat": {
          "bdata": "7KaU10o4GUA=",
          "dtype": "f8"
         },
         "legendgroup": "Valle de Aburra",
         "lon": {
          "bdata": "W9HmOLfhUsA=",
          "dtype": "f8"
         },
         "marker": {
          "color": "#000009"
         },
         "mode": "markers",
         "name": "Valle de Aburra",
         "showlegend": true,
         "subplot": "map",
         "type": "scattermap"
        }
       ],
       "layout": {
        "height": 600,
        "legend": {
         "title": {
          "text": "subregion"
         },
         "tracegroupgap": 0
        },
        "map": {
         "center": {
          "lat": 6.589377344444444,
          "lon": -75.52521080277779
         },
         "domain": {
          "x": [
           0,
           1
          ],
          "y": [
           0,
           1
          ]
         },
         "zoom": 6
        },
        "mapbox": {
         "center": {
          "lat": 6.589377344444444,
          "lon": -75.52521080277779
         },
         "style": "open-street-map",
         "zoom": 6
        },
        "template": {
         "data": {
          "candlestick": [
           {
            "decreasing": {
             "line": {
              "color": "#000033"
             }
            },
            "increasing": {
             "line": {
              "color": "#000032"
             }
            },
            "type": "candlestick"
           }
          ],
          "contour": [
           {
            "colorscale": [
             [
              0,
              "#000011"
             ],
             [
              0.1111111111111111,
              "#000012"
             ],
             [
              0.2222222222222222,
              "#000013"
             ],
             [
              0.3333333333333333,
              "#000014"
             ],
             [
              0.4444444444444444,
              "#000015"
             ],
             [
              0.5555555555555556,
              "#000016"
             ],
             [
              0.6666666666666666,
              "#000017"
             ],
             [
              0.7777777777777778,
              "#000018"
             ],
             [
              0.8888888888888888,
              "#000019"
             ],
             [
              1,
              "#000020"
             ]
            ],
            "type": "contour"
           }
          ],
          "contourcarpet": [
           {
            "colorscale": [
             [
              0,
              "#000011"
             ],
             [
              0.1111111111111111,
              "#000012"
             ],
             [
              0.2222222222222222,
              "#000013"
             ],
             [
              0.3333333333333333,
              "#000014"
             ],
             [
              0.4444444444444444,
              "#000015"
             ],
             [
              0.5555555555555556,
              "#000016"
             ],
             [
              0.6666666666666666,
              "#000017"
             ],
             [
              0.7777777777777778,
              "#000018"
             ],
             [
              0.8888888888888888,
              "#000019"
             ],
             [
              1,
              "#000020"
             ]
            ],
            "type": "contourcarpet"
           }
          ],
          "heatmap": [
           {
            "colorscale": [
             [
              0,
              "#000011"
             ],
             [
              0.1111111111111111,
              "#000012"
             ],
             [
              0.2222222222222222,
              "#000013"
             ],
             [
              0.3333333333333333,
              "#000014"
             ],
             [
              0.4444444444444444,
              "#000015"
             ],
             [
              0.5555555555555556,
              "#000016"
             ],
             [
              0.6666666666666666,
              "#000017"
             ],
             [
              0.7777777777777778,
              "#000018"
             ],
             [
              0.8888888888888888,
              "#000019"
             ],
             [
              1,
              "#000020"
             ]
            ],
            "type": "heatmap"
           }
          ],
          "histogram2d": [
           {
            "colorscale": [
             [
              0,
              "#000011"
             ],
             [
              0.1111111111111111,
              "#000012"
             ],
             [
              0.2222222222222222,
              "#000013"
             ],
             [
              0.3333333333333333,
              "#000014"
             ],
             [
              0.4444444444444444,
              "#000015"
             ],
             [
              0.5555555555555556,
              "#000016"
             ],
             [
              0.6666666666666666,
              "#000017"
             ],
             [
              0.7777777777777778,
              "#000018"
             ],
             [
              0.8888888888888888,
              "#000019"
             ],
             [
              1,
              "#000020"
             ]
            ],
            "type": "histogram2d"
           }
          ],
          "icicle": [
           {
            "textfont": {
             "color": "white"
            },
            "type": "icicle"
           }
          ],
          "sankey": [
           {
            "textfont": {
             "color": "#000036"
            },
            "type": "sankey"
           }
          ],
          "scatter": [
           {
            "marker": {
             "line": {
              "width": 0
             }
            },
            "type": "scatter"
           }
          ],
          "table": [
           {
            "cells": {
             "fill": {
              "color": "#000038"
             },
             "font": {
              "color": "#000037"
             },
             "line": {
              "color": "#000039"
             }
            },
            "header": {
             "fill": {
              "color": "#000040"
             },
             "font": {
              "color": "#000036"
             },
             "line": {
              "color": "#000039"
             }
            },
            "type": "table"
           }
          ],
          "waterfall": [
           {
            "connector": {
             "line": {
              "color": "#000036",
              "width": 2
             }
            },
            "decreasing": {
             "marker": {
              "color": "#000033"
             }
            },
            "increasing": {
             "marker": {
              "color": "#000032"
             }
            },
            "totals": {
             "marker": {
              "color": "#000034"
             }
            },
            "type": "waterfall"
           }
          ]
         },
         "layout": {
          "coloraxis": {
           "colorscale": [
            [
             0,
             "#000011"
            ],
            [
             0.1111111111111111,
             "#000012"
            ],
            [
             0.2222222222222222,
             "#000013"
            ],
            [
             0.3333333333333333,
             "#000014"
            ],
            [
             0.4444444444444444,
             "#000015"
            ],
            [
             0.5555555555555556,
             "#000016"
            ],
            [
             0.6666666666666666,
             "#000017"
            ],
            [
             0.7777777777777778,
             "#000018"
            ],
            [
             0.8888888888888888,
             "#000019"
            ],
            [
             1,
             "#000020"
            ]
           ]
          },
          "colorscale": {
           "diverging": [
            [
             0,
             "#000021"
            ],
            [
             0.1,
             "#000022"
            ],
            [
             0.2,
             "#000023"
            ],
            [
             0.3,
             "#000024"
            ],
            [
             0.4,
             "#000025"
            ],
            [
             0.5,
             "#000026"
            ],
            [
             0.6,
             "#000027"
            ],
            [
             0.7,
             "#000028"
            ],
            [
             0.8,
             "#000029"
            ],
            [
             0.9,
             "#000030"
            ],
            [
             1,
             "#000031"
            ]
           ],
           "sequential": [
            [
             0,
             "#000011"
            ],
            [
             0.1111111111111111,
             "#000012"
            ],
            [
             0.2222222222222222,
             "#000013"
            ],
            [
             0.3333333333333333,
             "#000014"
            ],
            [
             0.4444444444444444,
             "#000015"
            ],
            [
             0.5555555555555556,
             "#000016"
            ],
            [
             0.6666666666666666,
             "#000017"
            ],
            [
             0.7777777777777778,
             "#000018"
            ],
            [
             0.8888888888888888,
             "#000019"
            ],
            [
             1,
             "#000020"
            ]
           ],
           "sequentialminus": [
            [
             0,
             "#000011"
            ],
            [
             0.1111111111111111,
             "#000012"
            ],
            [
             0.2222222222222222,
             "#000013"
            ],
            [
             0.3333333333333333,
             "#000014"
            ],
            [
             0.4444444444444444,
             "#000015"
            ],
            [
             0.5555555555555556,
             "#000016"
            ],
            [
             0.6666666666666666,
             "#000017"
            ],
            [
             0.7777777777777778,
             "#000018"
            ],
            [
             0.8888888888888888,
             "#000019"
            ],
            [
             1,
             "#000020"
            ]
           ]
          },
          "colorway": [
           "#000001",
           "#000002",
           "#000003",
           "#000004",
           "#000005",
           "#000006",
           "#000007",
           "#000008",
           "#000009",
           "#000010"
          ]
         }
        },
        "title": {
         "text": "📍 Ubicación de todas las estaciones de precipitación"
        }
       }
      }
     },
     "metadata": {},
     "output_type": "display_data"
    },
    {
     "data": {
      "application/vnd.plotly.v1+json": {
       "config": {
        "plotlyServerURL": "https://plot.ly"
       },
       "data": [
        {
         "hovertemplate": "Fecha y Hora=%{x}<br>Acumulado (mm)=%{y}<extra></extra>",
         "legendgroup": "",
         "line": {
          "color": "#000001",
          "dash": "solid"
         },
         "marker": {
          "symbol": "circle"
         },
         "mode": "lines",
         "name": "",
         "orientation": "v",
         "showlegend": false,
         "type": "scatter",
         "x": [
          "2025-09-02T15:16:06.683051000",
          "2025-09-02T14:16:06.683051000",
          "2025-09-02T13:16:06.683051000",
          "2025-09-02T12:16:06.683051000",
          "2025-09-02T11:16:06.683051000",
          "2025-09-02T10:16:06.683051000",
          "2025-09-02T09:16:06.683051000",
          "2025-09-02T08:16:06.683051000",
          "2025-09-02T07:16:06.683051000",
          "2025-09-02T06:16:06.683051000",
          "2025-09-02T05:16:06.683051000",
          "2025-09-02T04:16:06.683051000",
          "2025-09-02T03:16:06.683051000",
          "2025-09-02T02:16:06.683051000",
          "2025-09-02T01:16:06.683051000",
          "2025-09-02T00:16:06.683051000",
          "2025-09-01T23:16:06.683051000",
          "2025-09-01T22:16:06.683051000",
          "2025-09-01T21:16:06.683051000",
          "2025-09-01T20:16:06.683051000",
          "2025-09-01T19:16:06.683051000",
          "2025-09-01T18:16:06.683051000",
          "2025-09-01T17:16:06.683051000",
          "2025-09-01T16:16:06.683051000",
          "2025-09-01T15:16:06.683051000",
          "2025-09-01T14:16:06.683051000",
          "2025-09-01T13:16:06.683051000",
          "2025-09-01T12:16:06.683051000",
          "2025-09-01T11:16:06.683051000",
          "2025-09-01T10:16:06.683051000",
          "2025-09-01T09:16:06.683051000",
          "2025-09-01T08:16:06.683051000",
          "2025-09-01T07:16:06.683051000",
          "2025-09-01T06:16:06.683051000",
          "2025-09-01T05:16:06.683051000",
          "2025-09-01T04:16:06.683051000",
          "2025-09-01T03:16:06.683051000",
          "2025-09-01T02:16:06.683051000",
          "2025-09-01T01:16:06.683051000",
          "2025-09-01T00:16:06.683051000",
          "2025-08-31T23:16:06.683051000",
          "2025-08-31T22:16:06.683051000",
          "2025-08-31T21:16:06.683051000",
          "2025-08-31T20:16:06.683051000",
          "2025-08-31T19:16:06.683051000",
          "2025-08-31T18:16:06.683051000",
          "2025-08-31T17:16:06.683051000",
          "2025-08-31T16:16:06.683051000",
          "2025-08-31T15:16:06.683051000",
          "2025-08-31T14:16:06.683051000",
          "2025-08-31T13:16:06.683051000",
          "2025-08-31T12:16:06.683051000",
          "2025-08-31T11:16:06.683051000",
          "2025-08-31T10:16:06.683051000",
          "2025-08-31T09:16:06.683051000",
          "2025-08-31T08:16:06.683051000",
          "2025-08-31T07:16:06.683051000",
          "2025-08-31T06:16:06.683051000",
          "2025-08-31T05:16:06.683051000",
          "2025-08-31T04:16:06.683051000",
          "2025-08-31T03:16:06.683051000",
          "2025-08-31T02:16:06.683051000",
          "2025-08-31T01:16:06.683051000",
          "2025-08-31T00:16:06.683051000",
          "2025-08-30T23:16:06.683051000",
          "2025-08-30T22:16:06.683051000",
          "2025-08-30T21:16:06.683051000",
          "2025-08-30T20:16:06.683051000",
          "2025-08-30T19:16:06.683051000",
          "2025-08-30T18:16:06.683051000",
          "2025-08-30T17:16:06.683051000",
          "2025-08-30T16:16:06.683051000",
          "2025-08-30T15:16:06.683051000",
          "2025-08-30T14:16:06.683051000",
          "2025-08-30T13:16:06.683051000",
          "2025-08-30T12:16:06.683051000",
          "2025-08-30T11:16:06.683051000",
          "2025-08-30T10:16:06.683051000",
          "2025-08-30T09:16:06.683051000",
          "2025-08-30T08:16:06.683051000",
          "2025-08-30T07:16:06.683051000",
          "2025-08-30T06:16:06.683051000",
          "2025-08-30T05:16:06.683051000",
          "2025-08-30T04:16:06.683051000",
          "2025-08-30T03:16:06.683051000",
          "2025-08-30T02:16:06.683051000",
          "2025-08-30T01:16:06.683051000",
          "2025-08-30T00:16:06.683051000",
          "2025-08-29T23:16:06.683051000",
          "2025-08-29T22:16:06.683051000",
          "2025-08-29T21:16:06.683051000",
          "2025-08-29T20:16:06.683051000",
          "2025-08-29T19:16:06.683051000",
          "2025-08-29T18:16:06.683051000",
          "2025-08-29T17:16:06.683051000",
          "2025-08-29T16:16:06.683051000",
          "2025-08-29T15:16:06.683051000",
          "2025-08-29T14:16:06.683051000",
          "2025-08-29T13:16:06.683051000",
          "2025-08-29T12:16:06.683051000",
          "2025-08-29T11:16:06.683051000",
          "2025-08-29T10:16:06.683051000",
          "2025-08-29T09:16:06.683051000",
          "2025-08-29T08:16:06.683051000",
          "2025-08-29T07:16:06.683051000",
          "2025-08-29T06:16:06.683051000",
          "2025-08-29T05:16:06.683051000",
          "2025-08-29T04:16:06.683051000",
          "2025-08-29T03:16:06.683051000",
          "2025-08-29T02:16:06.683051000",
          "2025-08-29T01:16:06.683051000",
          "2025-08-29T00:16:06.683051000",
          "2025-08-28T23:16:06.683051000",
          "2025-08-28T22:16:06.683051000",
          "2025-08-28T21:16:06.683051000",
          "2025-08-28T20:16:06.683051000",
          "2025-08-28T19:16:06.683051000",
          "2025-08-28T18:16:06.683051000",
          "2025-08-28T17:16:06.683051000",
          "2025-08-28T16:16:06.683051000"
         ],
         "xaxis": "x",
         "y": {
          "bdata": "AAAAAAAAAAAAAAAAAAAAAAAAAAAAAAAAAAAAAAAAAAAAAAAAAAAAAAAAAAAAAAAAAAAAAAAAAAAAAAAAAAAAAAAAAAAAAAAAAAAAAAAAAAAAAAAAAAAAAAAAAAAAAAAAAAAAAAAAAAAAAAAAAAAAAAAAAAAAAAAAAAAAAAAAAAD8qfHSTWLoP710kxgEVhVAppvEILByDECoxks3iUEAQGEQWDm0CDJA/Knx0k1i+D8AAAAAAAAAAAAAAAAAAAAAAAAAAAAAAAAAAAAAAAAAAAAAAAAAAAAAAAAAAAAAAAAAAAAAAAAAAAAAAAAAAAAAAAAAAAAAAAAAAAAAAAAAAAAAAAAAAAAAAAAAAAAAAAAAAAAAAAAAAAAAAAAAAAAAAAAAAAAAAAAAAAAAAAAAAAAAAAAAAAAAAAAAAAAAAACoxks3iUEAQAAAAAAAAAAAAAAAAAAAAAAAAAAAAAAAAAAAAAAAAAAAAAAAAAAAAAAAAAAAAAAAAAAAAAAAAAAAAAAAAAAAAAAAAAAAAAAAAAAAAAAAAAAAAAAAAAAAAAAAAAAAAAAAAAAAAAAAAAAAAAAAAAAAAAAAAAAAAAAAAAAAAAAAAAAAAAAAAAAAAAAAAAAAAAAAAAAAAAAAAAAAAAAAAAAAAAAAAAAAAAAAAAAAAAAAAAAAAAAAAAAAAAAAAAAAAAAAAAAAAAAAAAAAAAAAAAAAAAAAAAAAAAAAAAAAAAAAAAAAAAAAAAAAAAAAAAAAAAAAAAAAAAAAAAAAAAAAAAAAAAAAAAAAAAAAAAAAAAAAAAAAAAAAAAAAAAAAAAAAAAAAAAAAAAAAAAAAAAAAAAAAAAAAAAAAAAAAAAAAAAAAAAAAAAAAAAAAAAAAAAAAAAAAAAAAAAAAAAAAAAAAAAAAAAAAAAAAAAAAAAAAAAAAAAAAAAAAAAAAAAAAAAAAAAAAAAAAAAAAAAAAAAAAAAAAAAAAAAAAAAAAAAAAAAAAAAAAAAAAAAAAAAAAAAAAAAAAAAAAAAAAAAAAAAAAAAAAAAAAAAAAAAAAAAAAAAAAAAAAAAAAAAAAAAAAAAAAAAAAAAAAAAAAAAAAAAAAAAAAAAAAAAAAAAAAAAAAAAAAAAAAAAAAAAAAAAAAAAAAAAAAAAAAAAAAAAAAAAAAAAAAAAAAAAAAAAAAAAAAAAAAAAAAAAAAAAAAAAAAAAAAAAAAAAAAAAAAAAAAAAAAAAAAAAAAAAAAAAAAAAAAAAAAAAAAAAAAAAAAAAAAAAAAAAAAAAAAAAAAAAAA",
          "dtype": "f8"
         },
         "yaxis": "y"
        }
       ],
       "layout": {
        "legend": {
         "tracegroupgap": 0
        },
        "template": {
         "data": {
          "candlestick": [
           {
            "decreasing": {
             "line": {
              "color": "#000033"
             }
            },
            "increasing": {
             "line": {
              "color": "#000032"
             }
            },
            "type": "candlestick"
           }
          ],
          "contour": [
           {
            "colorscale": [
             [
              0,
              "#000011"
             ],
             [
              0.1111111111111111,
              "#000012"
             ],
             [
              0.2222222222222222,
              "#000013"
             ],
             [
              0.3333333333333333,
              "#000014"
             ],
             [
              0.4444444444444444,
              "#000015"
             ],
             [
              0.5555555555555556,
              "#000016"
             ],
             [
              0.6666666666666666,
              "#000017"
             ],
             [
              0.7777777777777778,
              "#000018"
             ],
             [
              0.8888888888888888,
              "#000019"
             ],
             [
              1,
              "#000020"
             ]
            ],
            "type": "contour"
           }
          ],
          "contourcarpet": [
           {
            "colorscale": [
             [
              0,
              "#000011"
             ],
             [
              0.1111111111111111,
              "#000012"
             ],
             [
              0.2222222222222222,
              "#000013"
             ],
             [
              0.3333333333333333,
              "#000014"
             ],
             [
              0.4444444444444444,
              "#000015"
             ],
             [
              0.5555555555555556,
              "#000016"
             ],
             [
              0.6666666666666666,
              "#000017"
             ],
             [
              0.7777777777777778,
              "#000018"
             ],
             [
              0.8888888888888888,
              "#000019"
             ],
             [
              1,
              "#000020"
             ]
            ],
            "type": "contourcarpet"
           }
          ],
          "heatmap": [
           {
            "colorscale": [
             [
              0,
              "#000011"
             ],
             [
              0.1111111111111111,
              "#000012"
             ],
             [
              0.2222222222222222,
              "#000013"
             ],
             [
              0.3333333333333333,
              "#000014"
             ],
             [
              0.4444444444444444,
              "#000015"
             ],
             [
              0.5555555555555556,
              "#000016"
             ],
             [
              0.6666666666666666,
              "#000017"
             ],
             [
              0.7777777777777778,
              "#000018"
             ],
             [
              0.8888888888888888,
              "#000019"
             ],
             [
              1,
              "#000020"
             ]
            ],
            "type": "heatmap"
           }
          ],
          "histogram2d": [
           {
            "colorscale": [
             [
              0,
              "#000011"
             ],
             [
              0.1111111111111111,
              "#000012"
             ],
             [
              0.2222222222222222,
              "#000013"
             ],
             [
              0.3333333333333333,
              "#000014"
             ],
             [
              0.4444444444444444,
              "#000015"
             ],
             [
              0.5555555555555556,
              "#000016"
             ],
             [
              0.6666666666666666,
              "#000017"
             ],
             [
              0.7777777777777778,
              "#000018"
             ],
             [
              0.8888888888888888,
              "#000019"
             ],
             [
              1,
              "#000020"
             ]
            ],
            "type": "histogram2d"
           }
          ],
          "icicle": [
           {
            "textfont": {
             "color": "white"
            },
            "type": "icicle"
           }
          ],
          "sankey": [
           {
            "textfont": {
             "color": "#000036"
            },
            "type": "sankey"
           }
          ],
          "scatter": [
           {
            "marker": {
             "line": {
              "width": 0
             }
            },
            "type": "scatter"
           }
          ],
          "table": [
           {
            "cells": {
             "fill": {
              "color": "#000038"
             },
             "font": {
              "color": "#000037"
             },
             "line": {
              "color": "#000039"
             }
            },
            "header": {
             "fill": {
              "color": "#000040"
             },
             "font": {
              "color": "#000036"
             },
             "line": {
              "color": "#000039"
             }
            },
            "type": "table"
           }
          ],
          "waterfall": [
           {
            "connector": {
             "line": {
              "color": "#000036",
              "width": 2
             }
            },
            "decreasing": {
             "marker": {
              "color": "#000033"
             }
            },
            "increasing": {
             "marker": {
              "color": "#000032"
             }
            },
            "totals": {
             "marker": {
              "color": "#000034"
             }
            },
            "type": "waterfall"
           }
          ]
         },
         "layout": {
          "coloraxis": {
           "colorscale": [
            [
             0,
             "#000011"
            ],
            [
             0.1111111111111111,
             "#000012"
            ],
            [
             0.2222222222222222,
             "#000013"
            ],
            [
             0.3333333333333333,
             "#000014"
            ],
            [
             0.4444444444444444,
             "#000015"
            ],
            [
             0.5555555555555556,
             "#000016"
            ],
            [
             0.6666666666666666,
             "#000017"
            ],
            [
             0.7777777777777778,
             "#000018"
            ],
            [
             0.8888888888888888,
             "#000019"
            ],
            [
             1,
             "#000020"
            ]
           ]
          },
          "colorscale": {
           "diverging": [
            [
             0,
             "#000021"
            ],
            [
             0.1,
             "#000022"
            ],
            [
             0.2,
             "#000023"
            ],
            [
             0.3,
             "#000024"
            ],
            [
             0.4,
             "#000025"
            ],
            [
             0.5,
             "#000026"
            ],
            [
             0.6,
             "#000027"
            ],
            [
             0.7,
             "#000028"
            ],
            [
             0.8,
             "#000029"
            ],
            [
             0.9,
             "#000030"
            ],
            [
             1,
             "#000031"
            ]
           ],
           "sequential": [
            [
             0,
             "#000011"
            ],
            [
             0.1111111111111111,
             "#000012"
            ],
            [
             0.2222222222222222,
             "#000013"
            ],
            [
             0.3333333333333333,
             "#000014"
            ],
            [
             0.4444444444444444,
             "#000015"
            ],
            [
             0.5555555555555556,
             "#000016"
            ],
            [
             0.6666666666666666,
             "#000017"
            ],
            [
             0.7777777777777778,
             "#000018"
            ],
            [
             0.8888888888888888,
             "#000019"
            ],
            [
             1,
             "#000020"
            ]
           ],
           "sequentialminus": [
            [
             0,
             "#000011"
            ],
            [
             0.1111111111111111,
             "#000012"
            ],
            [
             0.2222222222222222,
             "#000013"
            ],
            [
             0.3333333333333333,
             "#000014"
            ],
            [
             0.4444444444444444,
             "#000015"
            ],
            [
             0.5555555555555556,
             "#000016"
            ],
            [
             0.6666666666666666,
             "#000017"
            ],
            [
             0.7777777777777778,
             "#000018"
            ],
            [
             0.8888888888888888,
             "#000019"
            ],
            [
             1,
             "#000020"
            ]
           ]
          },
          "colorway": [
           "#000001",
           "#000002",
           "#000003",
           "#000004",
           "#000005",
           "#000006",
           "#000007",
           "#000008",
           "#000009",
           "#000010"
          ]
         }
        },
        "title": {
         "text": "Serie de tiempo 120h - Estación sp_101"
        },
        "xaxis": {
         "anchor": "y",
         "domain": [
          0,
          1
         ],
         "title": {
          "text": "Hora"
         }
        },
        "yaxis": {
         "anchor": "x",
         "domain": [
          0,
          1
         ],
         "title": {
          "text": "Acumulado (mm)"
         }
        }
       }
      }
     },
     "metadata": {},
     "output_type": "display_data"
    },
    {
     "name": "stdout",
     "output_type": "stream",
     "text": [
      "\n",
      "🎯 Estas gráficas funcionan perfectamente en el notebook!\n",
      "📱 Para una experiencia completa interactiva, usa el archivo streamlit_app.py\n"
     ]
    }
   ],
   "source": [
    "# 5. Mapa de ubicación de todas las estaciones\n",
    "fig_map = px.scatter_map(\n",
    "    df_meta,\n",
    "    lat=\"latitud\",\n",
    "    lon=\"longitud\",\n",
    "    hover_name=\"estacion\",\n",
    "    hover_data=[\"municipio\", \"subregion\"],\n",
    "    color=\"subregion\",\n",
    "    size_max=15,\n",
    "    zoom=6,\n",
    "    title=\"📍 Ubicación de todas las estaciones de precipitación\"\n",
    ")\n",
    "\n",
    "fig_map.update_layout(\n",
    "    mapbox_style=\"open-street-map\",\n",
    "    height=600\n",
    ")\n",
    "fig_map.show()\n",
    "\n",
    "# 6. Serie de tiempo de una estación específica (ejemplo: la primera con datos)\n",
    "if resultados:\n",
    "    estacion_ejemplo = resultados[0][\"estacion\"]\n",
    "    serie_ejemplo = resultados[0][\"serie_120h\"]\n",
    "    \n",
    "    if serie_ejemplo:\n",
    "        df_serie_ejemplo = pd.DataFrame(serie_ejemplo)\n",
    "        \n",
    "        fig_serie = px.line(\n",
    "            df_serie_ejemplo, \n",
    "            x=\"hora\", \n",
    "            y=\"acumulado\",\n",
    "            title=f\"Serie de tiempo 120h - Estación sp_{estacion_ejemplo}\",\n",
    "            labels={'acumulado': 'Acumulado (mm)', 'hora': 'Fecha y Hora'}\n",
    "        )\n",
    "        fig_serie.update_layout(xaxis_title=\"Hora\", yaxis_title=\"Acumulado (mm)\")\n",
    "        fig_serie.show()\n",
    "    else:\n",
    "        print(f\"No hay datos de serie temporal para la estación sp_{estacion_ejemplo}\")\n",
    "\n",
    "print(\"\\n🎯 Estas gráficas funcionan perfectamente en el notebook!\")\n",
    "print(\"📱 Para una experiencia completa interactiva, usa el archivo streamlit_app.py\")"
   ]
  },
  {
   "cell_type": "code",
   "execution_count": 29,
   "id": "9272d230",
   "metadata": {},
   "outputs": [
    {
     "name": "stdout",
     "output_type": "stream",
     "text": [
      "✅ Archivo 'streamlit_app.py' creado exitosamente en Downloads!\n",
      "Para ejecutar la aplicación, navega al directorio y usa: streamlit run streamlit_app.py\n"
     ]
    }
   ],
   "source": [
    "# Crear archivo separado para la aplicación Streamlit\n",
    "streamlit_app_code = '''\n",
    "import streamlit as st\n",
    "import plotly.express as px\n",
    "import plotly.graph_objects as go\n",
    "import pandas as pd\n",
    "from datetime import datetime, timedelta\n",
    "import requests\n",
    "import warnings\n",
    "from urllib3.exceptions import InsecureRequestWarning\n",
    "import pytz\n",
    "import time\n",
    "import math\n",
    "\n",
    "warnings.filterwarnings(\"ignore\", category=InsecureRequestWarning)\n",
    "\n",
    "# Configuración de la página\n",
    "st.set_page_config(\n",
    "    page_title=\"🌧️ Tablero de estaciones de precipitación\",\n",
    "    page_icon=\"🌧️\",\n",
    "    layout=\"wide\"\n",
    ")\n",
    "\n",
    "@st.cache_data(ttl=3600)  # Cache por 1 hora\n",
    "def cargar_datos():\n",
    "    \"\"\"Función para cargar y procesar todos los datos\"\"\"\n",
    "    \n",
    "    # Estaciones de precipitación (sp)\n",
    "    sp_codes = [\"101\", \"102\", \"103\", \"104\", \"106\", \"108\", \"109\", \"131\", \"132\", \"133\", \"134\", \"135\", \n",
    "                \"136\", \"137\", \"138\", \"139\", \"140\", \"141\", \"142\", \"143\", \"144\", \"145\", \"146\", \"147\", \n",
    "                \"149\", \"150\", \"151\", \"152\", \"154\", \"155\", \"156\", \"157\",\"158\",\"159\", \"160\", \"161\", \"162\", \"163\"]\n",
    "\n",
    "    def obtener_datos_estacion(code, calidad=1):\n",
    "        page = 1\n",
    "        datos = []\n",
    "        while True:\n",
    "            url = f\"https://sigran.antioquia.gov.co/api/v1/estaciones/sp_{code}/precipitacion?calidad={calidad}&page={page}\"\n",
    "            response = requests.get(url, verify=False)\n",
    "            if response.status_code != 200:\n",
    "                break\n",
    "            data = response.json()\n",
    "            values = data.get(\"values\", [])\n",
    "            if not values:\n",
    "                break\n",
    "            datos.extend(values)\n",
    "            page += 1\n",
    "            # Paramos si ya tenemos más de 72 horas de datos\n",
    "            fechas = [pd.to_datetime(d['fecha']) for d in datos]\n",
    "            if fechas and (max(fechas) - min(fechas)).total_seconds() > 72 * 3600:\n",
    "                break\n",
    "        return datos\n",
    "\n",
    "    def obtener_metadata_sp(code):\n",
    "        url = f\"https://sigran.antioquia.gov.co/api/v1/estaciones/sp_{code}/\"\n",
    "        resp = requests.get(url, verify=False)\n",
    "        if resp.status_code == 200:\n",
    "            d = resp.json()\n",
    "            return {\n",
    "                \"estacion\": code,\n",
    "                \"codigo\": d.get(\"codigo\"),\n",
    "                \"descripcion\": d.get(\"descripcion\"),\n",
    "                \"nombre_web\": d.get(\"nombre_web\"),\n",
    "                \"latitud\": float(d.get(\"latitud\", 0)),\n",
    "                \"longitud\": float(d.get(\"longitud\", 0)),\n",
    "                \"municipio\": d.get(\"municipio\"),\n",
    "                \"region\": d.get(\"region\")\n",
    "            }\n",
    "        else:\n",
    "            return None\n",
    "\n",
    "    def procesar_datos(datos, ahora=None):\n",
    "        if not datos:\n",
    "            return None\n",
    "\n",
    "        df = pd.DataFrame(datos)\n",
    "        df[\"fecha\"] = pd.to_datetime(df[\"fecha\"], utc=True)\n",
    "        df[\"muestra\"] = pd.to_numeric(df[\"muestra\"], errors='coerce')\n",
    "\n",
    "        ahora = ahora or datetime.utcnow().replace(tzinfo=pytz.UTC)\n",
    "\n",
    "        acumulados = {\n",
    "            \"acum_6h\": df[(df[\"fecha\"] > ahora - timedelta(hours=6)) & (df[\"fecha\"] <= ahora)][\"muestra\"].sum(),\n",
    "            \"acum_24h\": df[(df[\"fecha\"] > ahora - timedelta(hours=24)) & (df[\"fecha\"] <= ahora)][\"muestra\"].sum(),\n",
    "            \"acum_72h\": df[(df[\"fecha\"] > ahora - timedelta(hours=72)) & (df[\"fecha\"] <= ahora)][\"muestra\"].sum()\n",
    "        }\n",
    "\n",
    "        # Serie de 120 horas\n",
    "        serie_120h = []\n",
    "        for h in range(1, 121):\n",
    "            t_ini = ahora - timedelta(hours=h)\n",
    "            t_fin = ahora - timedelta(hours=h-1)\n",
    "            val = df[(df[\"fecha\"] > t_ini) & (df[\"fecha\"] <= t_fin)][\"muestra\"].sum()\n",
    "            serie_120h.append({\"hora\": t_ini, \"acumulado\": val})\n",
    "\n",
    "        def acum_dias_meteorologicos(n, df):\n",
    "            # Momento actual en UTC\n",
    "            ahora = datetime.now(timezone.utc)\n",
    "            # 7:00 AM UTC del día actual (inicio del día meteorológico actual)\n",
    "            inicio_meteo = datetime.combine(ahora.date(), time(7, 0, tzinfo=timezone.utc))\n",
    "            # Rango del día meteorológico: de (hace n días a las 7 AM) hasta (hoy a las 7 AM)\n",
    "            fecha_inicio = inicio_meteo - timedelta(days=n)\n",
    "            fecha_fin = inicio_meteo\n",
    "            # Filtrar y sumar la columna 'muestra' en ese rango\n",
    "            return df[(df[\"fecha\"] > fecha_inicio) & (df[\"fecha\"] <= fecha_fin)][\"muestra\"].sum()\n",
    "\n",
    "        # Diccionario con los acumulados meteorológicos\n",
    "        meteo = {\n",
    "            \"ultimo_dia_meteorologico\": acum_dias_meteorologicos(1, df),\n",
    "            \"ultimos_7_dias_meteorologicos\": acum_dias_meteorologicos(7, df),\n",
    "            \"ultimos_30_dias_meteorologicos\": acum_dias_meteorologicos(30, df)\n",
    "        }\n",
    "        \n",
    "        fecha_max = df[\"fecha\"].max()\n",
    "        dias_sin_datos = (ahora - fecha_max).days\n",
    "        datos_recientes = int((ahora - fecha_max) <= timedelta(days=1))\n",
    "        \n",
    "        return {\n",
    "            **acumulados,\n",
    "            **meteo,\n",
    "            \"datos_recientes\": datos_recientes,\n",
    "            \"dias_sin_datos\": dias_sin_datos,\n",
    "            \"fecha_ultimo_dato\": fecha_max, \n",
    "            \"serie_120h\": serie_120h\n",
    "        }\n",
    "\n",
    "    # Procesar datos\n",
    "    progress_bar = st.progress(0)\n",
    "    status_text = st.empty()\n",
    "    \n",
    "    resultados = []\n",
    "    metadata = []\n",
    "    \n",
    "    total_estaciones = len(sp_codes)\n",
    "    \n",
    "    for i, code in enumerate(sp_codes):\n",
    "        status_text.text(f'Procesando estación {code}... ({i+1}/{total_estaciones})')\n",
    "        progress_bar.progress((i + 1) / total_estaciones)\n",
    "        \n",
    "        datos = obtener_datos_estacion(code)\n",
    "        resumen = procesar_datos(datos)\n",
    "        meta = obtener_metadata_sp(code)\n",
    "        if resumen and meta:\n",
    "            resumen[\"estacion\"] = code\n",
    "            meta.update(resumen)\n",
    "            resultados.append(resumen)\n",
    "            metadata.append(meta)\n",
    "    \n",
    "    progress_bar.empty()\n",
    "    status_text.empty()\n",
    "    \n",
    "    df_meta = pd.DataFrame(metadata)\n",
    "    \n",
    "    # Aplicar correcciones de regiones\n",
    "    correcciones = {\n",
    "        'sp_163': 8,\n",
    "        'sp_149': 3,\n",
    "        'sp_151': 6,\n",
    "        'sp_158': 6\n",
    "    }\n",
    "    for codigo, region_correcta in correcciones.items():\n",
    "        df_meta.loc[df_meta['codigo'] == codigo, 'region'] = region_correcta\n",
    "    \n",
    "    # Procesar municipios y subregiones\n",
    "    try:\n",
    "        # Buscar el archivo en diferentes ubicaciones posibles\n",
    "        import os\n",
    "        possible_paths = [\n",
    "            'Base de datos estaciones SAMA.xlsx',  # Directorio actual\n",
    "            '/Users/sergiocamilogarzonperez/Projects/sama/pronosticos/Base de datos estaciones SAMA.xlsx',  # Ruta completa\n",
    "            '../Base de datos estaciones SAMA.xlsx'  # Directorio padre\n",
    "        ]\n",
    "        \n",
    "        excel_path = None\n",
    "        for path in possible_paths:\n",
    "            if os.path.exists(path):\n",
    "                excel_path = path\n",
    "                break\n",
    "        \n",
    "        if excel_path:\n",
    "            df_excel = pd.read_excel(excel_path, usecols=[\n",
    "                'GRUPO', 'MUNICIPIO', 'NOM_EST', 'COD_EST', 'TIPO', 'COMUN_PRIORIZ', 'CORRIENTE', 'LAT', 'LONG'\n",
    "            ])\n",
    "            df_excel = df_excel[['COD_EST', 'TIPO', 'GRUPO', 'MUNICIPIO', 'NOM_EST', 'COMUN_PRIORIZ', 'CORRIENTE', 'LAT', 'LONG']]\n",
    "            df_excel['COD_EST'] = df_excel['COD_EST'].astype(str).str.strip().str.lower()\n",
    "            \n",
    "            df_meta = df_meta.rename(columns={'municipio': 'municipio_num'})\n",
    "            df_municipio = df_excel[['COD_EST', 'MUNICIPIO']].rename(columns={\n",
    "                'COD_EST': 'codigo',\n",
    "                'MUNICIPIO': 'municipio'\n",
    "            })\n",
    "            df_meta = df_meta.merge(df_municipio, on='codigo', how='left')\n",
    "            df_meta['municipio'] = df_meta['municipio'].str.capitalize()\n",
    "            df_meta.loc[df_meta['codigo'] == 'sp_151', 'municipio'] = 'Sonson'\n",
    "        else:\n",
    "            st.warning(\"No se encontró el archivo Excel con datos de municipios. Se usarán datos básicos.\")\n",
    "            df_meta['municipio'] = 'Sin información'\n",
    "    except Exception as e:\n",
    "        st.warning(f\"Error al cargar archivo Excel: {e}. Se usarán datos básicos.\")\n",
    "        df_meta['municipio'] = 'Sin información'\n",
    "    \n",
    "    # Mapear subregiones\n",
    "    df_meta = df_meta.rename(columns={'region': 'subregion_num'})\n",
    "    mapa_subregiones = {\n",
    "        1: 'Valle de Aburra',\n",
    "        2: 'Bajo Cauca',\n",
    "        3: 'Magdalena Medio',\n",
    "        4: 'Nordeste',\n",
    "        5: 'Norte',\n",
    "        6: 'Oriente',\n",
    "        7: 'Occidente',\n",
    "        8: 'Suroeste',\n",
    "        9: 'Urabá'\n",
    "    }\n",
    "    df_meta['subregion'] = df_meta['subregion_num'].map(mapa_subregiones)\n",
    "    \n",
    "    # Procesar resultados\n",
    "    df_resultado = pd.DataFrame([{k: v for k, v in r.items() if k != \"serie_120h\"} for r in resultados])\n",
    "    df_resultado = df_resultado.sort_values(by=[\"datos_recientes\", \"fecha_ultimo_dato\"], ascending=[False, False])\n",
    "    \n",
    "    df_pie = df_resultado.copy()\n",
    "    df_pie['datos_recientes'] = df_pie['datos_recientes'].map({1: 'Reciente', 0: 'No reciente'})\n",
    "    \n",
    "    df_reciente = df_resultado[df_resultado[\"dias_sin_datos\"] < 7].copy()\n",
    "    df_reciente = df_reciente.sort_values(by='estacion', ascending=True)\n",
    "    \n",
    "    df_no_reciente = df_resultado[df_resultado[\"dias_sin_datos\"] >= 7].copy()\n",
    "    \n",
    "    return df_meta, resultados, df_resultado, df_pie, df_reciente, df_no_reciente\n",
    "\n",
    "# Título principal\n",
    "st.title(\"🌧️ Tablero de estaciones de precipitación\")\n",
    "\n",
    "# Cargar datos\n",
    "with st.spinner('Cargando datos de las estaciones...'):\n",
    "    df_meta, resultados, df_resultado, df_pie, df_reciente, df_no_reciente = cargar_datos()\n",
    "\n",
    "st.success(f'Datos cargados exitosamente. {len(df_reciente)} estaciones con datos recientes.')\n",
    "\n",
    "# Sidebar con filtros\n",
    "st.sidebar.header(\"Filtros\")\n",
    "\n",
    "# Filtro por subregión\n",
    "subregiones = sorted(df_meta[\"subregion\"].dropna().unique())\n",
    "subregion_seleccionada = st.sidebar.selectbox(\n",
    "    \"Filtrar por subregión:\",\n",
    "    options=[\"Todas\"] + subregiones,\n",
    "    index=0\n",
    ")\n",
    "\n",
    "# Filtro por municipio (dinámico basado en subregión)\n",
    "if subregion_seleccionada != \"Todas\":\n",
    "    municipios = sorted(df_meta[df_meta[\"subregion\"] == subregion_seleccionada][\"municipio\"].dropna().unique())\n",
    "else:\n",
    "    municipios = sorted(df_meta[\"municipio\"].dropna().unique())\n",
    "\n",
    "municipio_seleccionado = st.sidebar.selectbox(\n",
    "    \"Filtrar por municipio:\",\n",
    "    options=[\"Todos\"] + municipios,\n",
    "    index=0\n",
    ")\n",
    "\n",
    "# Filtro de estaciones (dinámico basado en filtros anteriores)\n",
    "df_filtrado = df_meta.copy()\n",
    "if subregion_seleccionada != \"Todas\":\n",
    "    df_filtrado = df_filtrado[df_filtrado[\"subregion\"] == subregion_seleccionada]\n",
    "if municipio_seleccionado != \"Todos\":\n",
    "    df_filtrado = df_filtrado[df_filtrado[\"municipio\"] == municipio_seleccionado]\n",
    "\n",
    "estaciones = sorted(df_filtrado[\"estacion\"].unique())\n",
    "if estaciones:\n",
    "    estacion_seleccionada = st.sidebar.selectbox(\n",
    "        \"Selecciona estación:\",\n",
    "        options=[f\"sp_{e}\" for e in estaciones],\n",
    "        index=0\n",
    "    )\n",
    "else:\n",
    "    estacion_seleccionada = None\n",
    "    st.sidebar.warning(\"No hay estaciones disponibles con los filtros seleccionados\")\n",
    "\n",
    "# Crear columnas para el layout\n",
    "if estacion_seleccionada:\n",
    "    col1, col2 = st.columns(2)\n",
    "    \n",
    "    # Serie de tiempo de 120 horas\n",
    "    with col1:\n",
    "        st.subheader(\"Serie de tiempo 120h\")\n",
    "        estacion_id = estacion_seleccionada.replace(\"sp_\", \"\")\n",
    "        serie = next((r[\"serie_120h\"] for r in resultados if r[\"estacion\"] == estacion_id), [])\n",
    "        if serie:\n",
    "            df_serie = pd.DataFrame(serie)\n",
    "            fig_serie = px.line(df_serie, x=\"hora\", y=\"acumulado\", \n",
    "                              title=f\"Serie 120h - {estacion_seleccionada}\")\n",
    "            fig_serie.update_layout(xaxis_title=\"Hora\", yaxis_title=\"Acumulado (mm)\")\n",
    "            st.plotly_chart(fig_serie, use_container_width=True)\n",
    "        else:\n",
    "            st.info(\"No hay datos disponibles para esta estación\")\n",
    "    \n",
    "    # Mapa de ubicación\n",
    "    with col2:\n",
    "        st.subheader(\"📍 Ubicación de la estación\")\n",
    "        estacion_id = estacion_seleccionada.replace(\"sp_\", \"\")\n",
    "        fila = df_meta[df_meta[\"estacion\"] == estacion_id]\n",
    "        if not fila.empty:\n",
    "            fig_map = px.scatter_map(\n",
    "                fila,\n",
    "                lat=\"latitud\",\n",
    "                lon=\"longitud\",\n",
    "                hover_name=\"estacion\",\n",
    "                hover_data=[\"municipio\", \"subregion\"],\n",
    "                color_discrete_sequence=[\"red\"],\n",
    "                zoom=10,\n",
    "                height=400\n",
    "            )\n",
    "            fig_map.update_layout(\n",
    "                mapbox_style=\"carto-positron\",\n",
    "                margin={\"r\": 0, \"t\": 0, \"l\": 0, \"b\": 0},\n",
    "                showlegend=False\n",
    "            )\n",
    "            st.plotly_chart(fig_map, use_container_width=True)\n",
    "        else:\n",
    "            st.info(\"Ubicación no disponible\")\n",
    "\n",
    "# Preparar datos para las tablas con filtros aplicados\n",
    "df_tabla = df_reciente.merge(df_meta[[\"estacion\", \"subregion\", \"municipio\"]], on=\"estacion\", how=\"left\")\n",
    "if subregion_seleccionada != \"Todas\":\n",
    "    df_tabla = df_tabla[df_tabla[\"subregion\"] == subregion_seleccionada]\n",
    "if municipio_seleccionado != \"Todos\":\n",
    "    df_tabla = df_tabla[df_tabla[\"municipio\"] == municipio_seleccionado]\n",
    "\n",
    "# Tabla de acumulados recientes\n",
    "st.subheader(\"Acumulados recientes por estación\")\n",
    "if not df_tabla.empty:\n",
    "    df_acumulados = df_tabla[[\"estacion\", \"acum_6h\", \"acum_24h\", \"acum_72h\"]].copy()\n",
    "    df_acumulados[\"estacion\"] = df_acumulados[\"estacion\"].apply(lambda x: f\"sp_{x}\")\n",
    "    df_acumulados = df_acumulados.round(3)\n",
    "    df_acumulados.columns = [\"Estación\", \"Acum. 6h\", \"Acum. 24h\", \"Acum. 72h\"]\n",
    "    \n",
    "    col1, col2 = st.columns([3, 1])\n",
    "    with col1:\n",
    "        st.dataframe(df_acumulados, use_container_width=True)\n",
    "    with col2:\n",
    "        csv_acumulados = df_acumulados.to_csv(index=False)\n",
    "        st.download_button(\n",
    "            label=\"📥 Descargar CSV\",\n",
    "            data=csv_acumulados,\n",
    "            file_name=\"acumulados_estaciones.csv\",\n",
    "            mime=\"text/csv\"\n",
    "        )\n",
    "else:\n",
    "    st.info(\"No hay estaciones con datos recientes para los filtros seleccionados\")\n",
    "\n",
    "# Tabla de acumulados meteorológicos\n",
    "st.subheader(\"Acumulados meteorológicos por estación\")\n",
    "if not df_tabla.empty:\n",
    "    df_meteo = df_tabla[[\"estacion\", \"ultimo_dia_meteorologico\", \"ultimos_7_dias_meteorologicos\", \"ultimos_30_dias_meteorologicos\"]].copy()\n",
    "    df_meteo[\"estacion\"] = df_meteo[\"estacion\"].apply(lambda x: f\"sp_{x}\")\n",
    "    df_meteo = df_meteo.round(3)\n",
    "    df_meteo.columns = [\"Estación\", \"Último día\", \"Últimos 7 días\", \"Últimos 30 días\"]\n",
    "    \n",
    "    col1, col2 = st.columns([3, 1])\n",
    "    with col1:\n",
    "        st.dataframe(df_meteo, use_container_width=True)\n",
    "    with col2:\n",
    "        csv_meteo = df_meteo.to_csv(index=False)\n",
    "        st.download_button(\n",
    "            label=\"📥 Descargar CSV\",\n",
    "            data=csv_meteo,\n",
    "            file_name=\"acumulados_meteorologicos.csv\",\n",
    "            mime=\"text/csv\"\n",
    "        )\n",
    "\n",
    "# Gráfico de acumulados meteorológicos del último día\n",
    "st.subheader(\"Acumulado meteorológico del último día por estación\")\n",
    "if not df_tabla.empty:\n",
    "    df_grafico = df_tabla.copy()\n",
    "    df_grafico[\"estacion\"] = df_grafico[\"estacion\"].apply(lambda x: f\"sp_{x}\")\n",
    "    \n",
    "    fig_meteo = px.bar(\n",
    "        df_grafico,\n",
    "        x=\"estacion\",\n",
    "        y=\"ultimo_dia_meteorologico\"\n",
    "    )\n",
    "    fig_meteo.update_layout(\n",
    "        xaxis_title=\"Estación\",\n",
    "        yaxis_title=\"Acumulado (mm)\",\n",
    "        showlegend=False,\n",
    "        xaxis_tickangle=45\n",
    "    )\n",
    "    st.plotly_chart(fig_meteo, use_container_width=True)\n",
    "\n",
    "# Gráfico de estaciones sin datos\n",
    "st.subheader(\"Estaciones sin datos por más de 7 días\")\n",
    "if not df_no_reciente.empty:\n",
    "    df_sin_datos = df_no_reciente.copy()\n",
    "    df_sin_datos[\"estacion\"] = df_sin_datos[\"estacion\"].apply(lambda x: f\"sp_{x}\")\n",
    "    df_sin_datos = df_sin_datos.sort_values(\"dias_sin_datos\", ascending=False)\n",
    "    \n",
    "    fig_sin_datos = px.bar(\n",
    "        df_sin_datos,\n",
    "        x=\"estacion\", \n",
    "        y=\"dias_sin_datos\"\n",
    "    )\n",
    "    fig_sin_datos.update_layout(\n",
    "        xaxis_title=\"Estación\",\n",
    "        yaxis_title=\"Días sin datos\",\n",
    "        xaxis_tickangle=45\n",
    "    )\n",
    "    st.plotly_chart(fig_sin_datos, use_container_width=True)\n",
    "else:\n",
    "    st.success(\"🎉 Todas las estaciones tienen datos recientes!\")\n",
    "\n",
    "# Gráfico de disponibilidad de datos\n",
    "st.subheader(\"Disponibilidad de datos recientes\")\n",
    "df_pie_chart = df_pie['datos_recientes'].value_counts()\n",
    "total_estaciones = len(df_pie)\n",
    "\n",
    "porcentajes = []\n",
    "labels = []\n",
    "values = []\n",
    "\n",
    "for label in df_pie_chart.index:\n",
    "    count = df_pie_chart[label]\n",
    "    percentage = (count / total_estaciones) * 100\n",
    "    porcentajes.append(f\"{percentage:.1f}% ({count})\")\n",
    "    labels.append(label)\n",
    "    values.append(count)\n",
    "\n",
    "fig_disponibilidad = go.Figure(data=[\n",
    "    go.Bar(\n",
    "        x=labels,\n",
    "        y=[(v/total_estaciones)*100 for v in values],\n",
    "        text=porcentajes,\n",
    "        textposition='inside',\n",
    "        marker_color=['lightcoral' if 'No' in label else 'lightblue' for label in labels]\n",
    "    )\n",
    "])\n",
    "\n",
    "fig_disponibilidad.update_layout(\n",
    "    xaxis_title=\"Estado de los datos\",\n",
    "    yaxis_title=\"Porcentaje (%)\",\n",
    "    yaxis=dict(range=[0, 100]),\n",
    "    height=400\n",
    ")\n",
    "\n",
    "st.plotly_chart(fig_disponibilidad, use_container_width=True)\n",
    "\n",
    "# Información adicional en el sidebar\n",
    "st.sidebar.markdown(\"---\")\n",
    "st.sidebar.markdown(\"### 📊 Estadísticas generales\")\n",
    "st.sidebar.metric(\"Total de estaciones\", len(df_meta))\n",
    "st.sidebar.metric(\"Con datos recientes\", len(df_reciente))\n",
    "st.sidebar.metric(\"Sin datos recientes\", len(df_no_reciente))\n",
    "\n",
    "# Información sobre actualización\n",
    "st.sidebar.markdown(\"---\")\n",
    "st.sidebar.markdown(\"### ℹ️ Información\")\n",
    "st.sidebar.info(\"Los datos se actualizan automáticamente cada hora. La aplicación muestra datos de precipitación de las estaciones SAMA.\")\n",
    "'''\n",
    "\n",
    "# Guardar el archivo\n",
    "with open('/Users/sergiocamilogarzonperez/Downloads/streamlit_app.py', 'w', encoding='utf-8') as f:\n",
    "    f.write(streamlit_app_code)\n",
    "\n",
    "print(\"✅ Archivo 'streamlit_app.py' creado exitosamente en Downloads!\")\n",
    "print(\"Para ejecutar la aplicación, navega al directorio y usa: streamlit run streamlit_app.py\")"
   ]
  },
  {
   "cell_type": "code",
   "execution_count": 30,
   "id": "f3d4e209-a0dc-4723-b88a-6dded974b344",
   "metadata": {},
   "outputs": [],
   "source": [
    "# Tiempo final\n",
    "end = time.time() "
   ]
  },
  {
   "cell_type": "code",
   "execution_count": 31,
   "id": "c30abcbe-6db2-4474-a55d-58c843350aba",
   "metadata": {},
   "outputs": [
    {
     "name": "stdout",
     "output_type": "stream",
     "text": [
      "Duración: 1 minutos\n"
     ]
    }
   ],
   "source": [
    "duracion_segundos = end - start\n",
    "duracion_minutos = duracion_segundos / 60\n",
    "\n",
    "# Redondear hacia arriba\n",
    "duracion_minutos_redondeada = math.ceil(duracion_minutos)\n",
    "\n",
    "\n",
    "print(f\"Duración: {duracion_minutos_redondeada} minutos\")"
   ]
  }
 ],
 "metadata": {
  "kernelspec": {
   "display_name": ".venv (3.12.8)",
   "language": "python",
   "name": "python3"
  },
  "language_info": {
   "codemirror_mode": {
    "name": "ipython",
    "version": 3
   },
   "file_extension": ".py",
   "mimetype": "text/x-python",
   "name": "python",
   "nbconvert_exporter": "python",
   "pygments_lexer": "ipython3",
   "version": "3.12.8"
  }
 },
 "nbformat": 4,
 "nbformat_minor": 5
}
